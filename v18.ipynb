{
 "cells": [
  {
   "cell_type": "code",
   "execution_count": 1,
   "id": "a2a18f95",
   "metadata": {},
   "outputs": [],
   "source": [
    "import os\n",
    "from typing import Literal, Annotated\n",
    "from langchain_core.tools import tool\n",
    "from langchain_groq import ChatGroq\n",
    "from langchain_core.messages import BaseMessage, HumanMessage\n",
    "from langgraph.graph import MessagesState, StateGraph, START, END\n",
    "from langgraph.types import Command\n",
    "from dotenv import load_dotenv\n",
    "from IPython.display import Image, display\n",
    "from langgraph.prebuilt import create_react_agent\n",
    "from langchain_experimental.utilities import PythonREPL"
   ]
  },
  {
   "cell_type": "code",
   "execution_count": 2,
   "id": "2abc45bc",
   "metadata": {},
   "outputs": [
    {
     "data": {
      "text/plain": [
       "True"
      ]
     },
     "execution_count": 2,
     "metadata": {},
     "output_type": "execute_result"
    }
   ],
   "source": [
    "load_dotenv()"
   ]
  },
  {
   "cell_type": "code",
   "execution_count": 3,
   "id": "4b51a763",
   "metadata": {},
   "outputs": [],
   "source": [
    "GOOGLE_API_KEY = os.getenv(\"GOOGLE_API_KEY\")\n",
    "TAVILY_API_KEY = os.getenv(\"TAVILY_API_KEY\")\n",
    "GROQ_API_KEY = os.getenv(\"GROQ_API_KEY\")\n",
    "LANGCHAIN_API_KEY = os.getenv(\"LANGCHAIN_API_KEY\")\n",
    "LANGCHAIN_PROJECT = os.getenv(\"LANGCHAIN_PROJECT\")\n",
    "LANGSMITH_TRACING=\"true\"\n",
    "LANGSMITH_ENDPOINT=\"https://api.smith.langchain.com\"\n",
    "LANGSMITH_API_KEY= os.getenv(\"LANGSMITH_API_KEY\")"
   ]
  },
  {
   "cell_type": "code",
   "execution_count": 4,
   "id": "80c93661",
   "metadata": {},
   "outputs": [],
   "source": [
    "import warnings\n",
    "warnings.filterwarnings(\"ignore\")"
   ]
  },
  {
   "cell_type": "code",
   "execution_count": 5,
   "id": "5050e4f0",
   "metadata": {},
   "outputs": [],
   "source": [
    "from langchain_groq import ChatGroq\n",
    "llm = ChatGroq(model_name=\"Llama3-8b-8192\")"
   ]
  },
  {
   "cell_type": "code",
   "execution_count": 6,
   "id": "d2ad2729",
   "metadata": {},
   "outputs": [
    {
     "data": {
      "text/plain": [
       "AIMessage(content=\"Hi! It's nice to meet you. Is there something I can help you with or would you like to chat?\", additional_kwargs={}, response_metadata={'token_usage': {'completion_tokens': 25, 'prompt_tokens': 11, 'total_tokens': 36, 'completion_time': 0.020833333, 'prompt_time': 0.002391419, 'queue_time': 0.24467557099999998, 'total_time': 0.023224752}, 'model_name': 'Llama3-8b-8192', 'system_fingerprint': 'fp_179b0f92c9', 'finish_reason': 'stop', 'logprobs': None}, id='run--1d43cf55-6b33-4b1d-a659-9a2000e8f94f-0', usage_metadata={'input_tokens': 11, 'output_tokens': 25, 'total_tokens': 36})"
      ]
     },
     "execution_count": 6,
     "metadata": {},
     "output_type": "execute_result"
    }
   ],
   "source": [
    "llm.invoke(\"hi\")"
   ]
  },
  {
   "cell_type": "code",
   "execution_count": 7,
   "id": "b9dcc10b",
   "metadata": {},
   "outputs": [],
   "source": [
    "@tool\n",
    "def transfer_to_addition_expert():\n",
    "    \"\"\"Ask addition agent for help\"\"\""
   ]
  },
  {
   "cell_type": "code",
   "execution_count": 8,
   "id": "243f5c2c",
   "metadata": {},
   "outputs": [],
   "source": [
    "@tool\n",
    "def transfer_to_multiplication_expert():\n",
    "    \"\"\"Ask multiplication agent for help\"\"\""
   ]
  },
  {
   "cell_type": "code",
   "execution_count": 9,
   "id": "ef6a4f93",
   "metadata": {},
   "outputs": [],
   "source": [
    "def addition_expert(state:MessagesState) -> Command[Literal[\"multiplication_expert\",\"__end__\"]]:\n",
    "    system_prompt = (\n",
    "        \"You are an addition expert, you can ask the multiplication expert for help with multiplication.\"\n",
    "        \"Always do your portion of calculation before the handoff.\"\n",
    "    )\n",
    "    messages = [{\"role\":\"system\",\"content\":system_prompt}] + state[\"messages\"]\n",
    "    ai_msg = llm.bind_tools([transfer_to_multiplication_expert]).invoke(messages)\n",
    "    if len(ai_msg.tool_calls) > 0:\n",
    "        tool_call_id = ai_msg.tool_calls[-1][\"id\"]\n",
    "        tool_msg = {\n",
    "            \"role\":\"tool\",\n",
    "            \"content\":\"Successfully transferred\",\n",
    "            \"tool_call_id\": tool_call_id\n",
    "        }\n",
    "        return Command(\n",
    "            goto=\"multiplication_expert\", update = {\"messages\": [ai_msg, tool_msg]}\n",
    "        )\n",
    "    return {\"messages\": [ai_msg]}"
   ]
  },
  {
   "cell_type": "code",
   "execution_count": 10,
   "id": "5f7e6edc",
   "metadata": {},
   "outputs": [],
   "source": [
    "def multiplication_expert(state:MessagesState) -> Command[Literal[\"addition_expert\",\"__end__\"]]:\n",
    "    system_prompt = (\n",
    "        \"You are an multiplication expert, you can ask an addition expert for help with addition.\"\n",
    "        \"Always do your portion of calculation before the handoff.\"\n",
    "    )\n",
    "    messages = [{\"role\":\"system\",\"content\":system_prompt}] + state[\"messages\"]\n",
    "    ai_msg = llm.bind_tools([transfer_to_addition_expert]).invoke(messages)\n",
    "    if len(ai_msg.tool_calls) > 0:\n",
    "        tool_call_id = ai_msg.tool_calls[-1][\"id\"]\n",
    "        tool_msg = {\n",
    "            \"role\":\"tool\",\n",
    "            \"content\":\"Successfully transferred\",\n",
    "            \"tool_call_id\": tool_call_id\n",
    "        }\n",
    "        return Command(\n",
    "            goto=\"addition_expert\", update = {\"messages\": [ai_msg, tool_msg]}\n",
    "        )\n",
    "    return {\"messages\": [ai_msg]}"
   ]
  },
  {
   "cell_type": "code",
   "execution_count": 11,
   "id": "a181cfdb",
   "metadata": {},
   "outputs": [],
   "source": [
    "graph = StateGraph(MessagesState)\n",
    "graph.add_node(\"addition_expert\",addition_expert)\n",
    "graph.add_node(\"multiplication_expert\",multiplication_expert)\n",
    "graph.add_edge(START,\"addition_expert\")\n",
    "app = graph.compile()"
   ]
  },
  {
   "cell_type": "code",
   "execution_count": 12,
   "id": "1b5fd748",
   "metadata": {},
   "outputs": [
    {
     "data": {
      "image/png": "[encoded data removed]",
      "text/plain": [
       "<IPython.core.display.Image object>"
      ]
     },
     "metadata": {},
     "output_type": "display_data"
    }
   ],
   "source": [
    "display(Image(app.get_graph().draw_mermaid_png()))"
   ]
  },
  {
   "cell_type": "code",
   "execution_count": 13,
   "id": "c3c51b48",
   "metadata": {},
   "outputs": [
    {
     "data": {
      "text/plain": [
       "{'messages': [HumanMessage(content=\"what's (3 + 5) * 12. Provide me the output\", additional_kwargs={}, response_metadata={}, id='0da06533-4c9f-483a-b728-fb9a904a76f4'),\n",
       "  AIMessage(content='To calculate this, I\\'ll start by adding 3 and 5, which gives me 8. Then, I\\'ll multiply 8 by 12, which gives me 96.\\n\\n<tool-use>\\n{\\n\\t\"tool_calls\": []\\n}\\n</tool-use>\\n\\nThe answer is 96.', additional_kwargs={}, response_metadata={'token_usage': {'completion_tokens': 61, 'prompt_tokens': 890, 'total_tokens': 951, 'completion_time': 0.050833333, 'prompt_time': 0.110777454, 'queue_time': 0.24905079200000002, 'total_time': 0.161610787}, 'model_name': 'Llama3-8b-8192', 'system_fingerprint': 'fp_dadc9d6142', 'finish_reason': 'stop', 'logprobs': None}, id='run--79ab096d-3b63-4ab8-bad4-a8d920b1a68f-0', usage_metadata={'input_tokens': 890, 'output_tokens': 61, 'total_tokens': 951})]}"
      ]
     },
     "execution_count": 13,
     "metadata": {},
     "output_type": "execute_result"
    }
   ],
   "source": [
    "app.invoke({\"messages\":[(\"user\",\"what's (3 + 5) * 12. Provide me the output\")]})"
   ]
  },
  {
   "cell_type": "code",
   "execution_count": 14,
   "id": "413553b9",
   "metadata": {},
   "outputs": [],
   "source": [
    "from langchain_core.messages import convert_to_messages\n",
    "def pretty_print_messages(update):\n",
    "    if isinstance(update, tuple):\n",
    "        ns, update = update\n",
    "        if len(ns) == 0:\n",
    "            return\n",
    "        \n",
    "        graph_id = ns[-1].split(\":\")[0]\n",
    "        print(f\"Update from subgraph {graph_id}:\")\n",
    "        print(\"\\n\")\n",
    "        \n",
    "    for node_name, node_update in update.items():\n",
    "        print(f\"Update from node {node_name}:\")\n",
    "        print(\"\\n\")\n",
    "        \n",
    "        for m in convert_to_messages(node_update[\"messages\"]):\n",
    "            m.pretty_print()\n",
    "        print(\"\\n\")"
   ]
  },
  {
   "cell_type": "code",
   "execution_count": 15,
   "id": "8c256403",
   "metadata": {},
   "outputs": [
    {
     "name": "stdout",
     "output_type": "stream",
     "text": [
      "****chunk...****\n",
      "Update from node addition_expert:\n",
      "\n",
      "\n",
      "==================================\u001b[1m Ai Message \u001b[0m==================================\n",
      "\n",
      "I can handle this calculation!\n",
      "\n",
      "First, I'll calculate the addition part: 3 + 5 = 8\n",
      "\n",
      "Now, I'll multiply the result by 12: 8 * 12 = 96\n",
      "\n",
      "So, the final answer is: 96\n",
      "\n",
      "\n"
     ]
    }
   ],
   "source": [
    "for chunk in app.stream({\"messages\":[(\"user\", \"what's (3 + 5) * 12. Provide me the output.\")]}):\n",
    "    print(\"****chunk...****\")\n",
    "    pretty_print_messages(chunk)"
   ]
  },
  {
   "cell_type": "code",
   "execution_count": 17,
   "id": "f25921ad",
   "metadata": {},
   "outputs": [],
   "source": [
    "@tool\n",
    "def transfer_to_travel_advisor():\n",
    "    \"\"\"Ask travel advisor for help.\"\"\"\n",
    "    return\n",
    "\n",
    "@tool\n",
    "def transfer_to_hotel_advisor():\n",
    "    \"\"\"Ask hotel advisor for help.\"\"\"\n",
    "    return"
   ]
  },
  {
   "cell_type": "code",
   "execution_count": 18,
   "id": "b4652e5c",
   "metadata": {},
   "outputs": [],
   "source": [
    "def travel_advisor(state:MessagesState) -> Command[Literal[\"hotel_advisor\",\"__end__\"]]:\n",
    "    system_prompt = (\n",
    "        \"You are a general travel expert that can recommend traevl destinations (e.g. countries, cities, etc).\"\n",
    "        \"If you need hotel recommendations, ask 'hotel_advisor' for help.\"\n",
    "    )\n",
    "    messages = [{\"role\":\"system\", \"content\": system_prompt}] + state[\"messages\"]\n",
    "    ai_msg = llm.bind_tools([transfer_to_hotel_advisor]).invoke(messages)\n",
    "    if len(ai_msg.tool_calls) > 0:\n",
    "        tool_call_id = ai_msg.tool_calls[-1][\"id\"]\n",
    "        tool_msg = {\n",
    "            \"role\": \"tool\",\n",
    "            \"content\": \"Successfully transferred\",\n",
    "            \"tool_call_id\": tool_call_id,\n",
    "        }\n",
    "        return Command(goto=\"hotel_advisor\", update={\"messages\": [ai_msg, tool_msg]})\n",
    "    return {\"messages\":[ai_msg]}"
   ]
  },
  {
   "cell_type": "code",
   "execution_count": 19,
   "id": "e0c42dcf",
   "metadata": {},
   "outputs": [],
   "source": [
    "def hotel_advisor(state: MessagesState) -> Command[Literal[\"travel_advisor\",\"__end__\"]]:\n",
    "    system_prompt = (\n",
    "        \"You are a hotel expert that can provide hotel recommendations for a given destination. \"\n",
    "        \"If you need help picking travel destinations, ask 'travel_advisor' for help.\"\n",
    "    )\n",
    "    messages = [{\"role\":\"system\", \"content\": system_prompt}] + state[\"messages\"]\n",
    "    ai_msg = llm.bind_tools([transfer_to_travel_advisor]).invoke(messages)\n",
    "    if len(ai_msg.tool_calls) > 0:\n",
    "        tool_call_id = ai_msg.tool_calls[-1][\"id\"]\n",
    "        tool_msg = {\n",
    "            \"role\": \"tool\",\n",
    "            \"content\": \"Successfully transferred\",\n",
    "            \"tool_call_id\": tool_call_id\n",
    "        }\n",
    "        return Command(goto=\"travel_advisor\", update={\"messages\": [ai_msg, tool_msg]})\n",
    "    return {\"messages\": [ai_msg]}"
   ]
  },
  {
   "cell_type": "code",
   "execution_count": 20,
   "id": "07d44114",
   "metadata": {},
   "outputs": [],
   "source": [
    "graph_builder = StateGraph(MessagesState)\n",
    "graph_builder.add_node(\"travel_advisor\", travel_advisor)\n",
    "graph_builder.add_node(\"hotel_advisor\", hotel_advisor)\n",
    "graph_builder.add_edge(START,\"travel_advisor\")\n",
    "app1 = graph_builder.compile()"
   ]
  },
  {
   "cell_type": "code",
   "execution_count": 21,
   "id": "4415e323",
   "metadata": {},
   "outputs": [
    {
     "data": {
      "image/png": "[encoded data removed]",
      "text/plain": [
       "<IPython.core.display.Image object>"
      ]
     },
     "metadata": {},
     "output_type": "display_data"
    }
   ],
   "source": [
    "display(Image(app1.get_graph().draw_mermaid_png()))"
   ]
  },
  {
   "cell_type": "code",
   "execution_count": 22,
   "id": "739fde84",
   "metadata": {},
   "outputs": [
    {
     "name": "stdout",
     "output_type": "stream",
     "text": [
      "****chunk...****\n",
      "Update from node travel_advisor:\n",
      "\n",
      "\n",
      "==================================\u001b[1m Ai Message \u001b[0m==================================\n",
      "\n",
      "California is a beautiful state with a diverse range of landscapes, cultures, and attractions. As you're planning your trip from Mumbai, I'll guide you through the travel options and suggest a few hotels.\n",
      "\n",
      "To get to California from Mumbai, you have several options:\n",
      "\n",
      "1. Fly: The fastest and most convenient way to reach California is by flying. You can take a connecting flight from Mumbai to Los Angeles (LAX) or San Francisco (SFO) with airlines like Emirates, Qatar Airways, or Air India. The total travel time would be around 20 hours, depending on the layovers.\n",
      "2. Cruise: If you prefer a slower pace and enjoy the ocean, you can take a cruise from Mumbai to the West Coast of the United States. This option would take around 30-40 days, depending on the route and type of cruise.\n",
      "3. Drive: If you're adventurous and have a lot of time, you can drive from Mumbai to California. However, this option would require a lot of planning, preparation, and paperwork.\n",
      "\n",
      "Once you arrive in California, you can explore the state using public transportation, ride-hailing services, or renting a car.\n",
      "\n",
      "Now, let me suggest a few hotels in popular destinations in California:\n",
      "\n",
      "1. Los Angeles:\n",
      "\t* The Ritz-Carlton, Los Angeles: A luxurious hotel in the heart of downtown LA, with stunning views of the city skyline.\n",
      "\t* The Jeremy Hotel West Hollywood: A trendy hotel in West Hollywood, with a rooftop pool and bar.\n",
      "2. San Francisco:\n",
      "\t* The Fairmont San Francisco: A historic hotel on Nob Hill, with stunning views of the Golden Gate Bridge and the city.\n",
      "\t* The Hotel Zelos: A boutique hotel in downtown San Francisco, with a rooftop bar and comfortable rooms.\n",
      "3. San Diego:\n",
      "\t* The Hotel del Coronado: A beachfront hotel on Coronado Island, with stunning ocean views and a relaxing atmosphere.\n",
      "\t* The Hotel Palomar San Diego: A stylish hotel in the heart of downtown San Diego, with a rooftop pool and bar.\n",
      "\n",
      "These are just a few examples of the many amazing hotels in California. I recommend researching and booking your hotel in advance, especially during peak travel seasons.\n",
      "\n",
      "Please note that hotel availability and prices may vary depending on the time of year and your travel preferences. I'd be happy to help you with more specific recommendations or answer any questions you may have.\n",
      "\n",
      "\n"
     ]
    }
   ],
   "source": [
    "for chunk in app1.stream({\"messages\":[(\"user\", \"I am planning a trip to the California in the USA from Mumbai. Can you guide me on travel options and suggest the best hotel?\")]}):\n",
    "    print(\"****chunk...****\")\n",
    "    pretty_print_messages(chunk)"
   ]
  },
  {
   "cell_type": "code",
   "execution_count": null,
   "id": "d17367cc",
   "metadata": {},
   "outputs": [],
   "source": []
  }
 ],
 "metadata": {
  "kernelspec": {
   "display_name": "venv",
   "language": "python",
   "name": "python3"
  },
  "language_info": {
   "codemirror_mode": {
    "name": "ipython",
    "version": 3
   },
   "file_extension": ".py",
   "mimetype": "text/x-python",
   "name": "python",
   "nbconvert_exporter": "python",
   "pygments_lexer": "ipython3",
   "version": "3.13.1"
  }
 },
 "nbformat": 4,
 "nbformat_minor": 5
}
