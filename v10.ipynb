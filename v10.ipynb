{
 "cells": [
  {
   "cell_type": "code",
   "execution_count": 1,
   "id": "8d29e0d0",
   "metadata": {},
   "outputs": [
    {
     "data": {
      "text/plain": [
       "True"
      ]
     },
     "execution_count": 1,
     "metadata": {},
     "output_type": "execute_result"
    }
   ],
   "source": [
    "import os\n",
    "from dotenv import load_dotenv\n",
    "load_dotenv()"
   ]
  },
  {
   "cell_type": "code",
   "execution_count": 2,
   "id": "39489d23",
   "metadata": {},
   "outputs": [],
   "source": [
    "GOOGLE_API_KEY = os.getenv(\"GOOGLE_API_KEY\")\n",
    "TAVILY_API_KEY = os.getenv(\"TAVILY_API_KEY\")\n",
    "GROQ_API_KEY = os.getenv(\"GROQ_API_KEY\")\n",
    "LANGCHAIN_API_KEY = os.getenv(\"LANGCHAIN_API_KEY\")\n",
    "LANGCHAIN_PROJECT = os.getenv(\"LANGCHAIN_PROJECT\")\n",
    "LANGSMITH_TRACING=\"true\"\n",
    "LANGSMITH_ENDPOINT=\"https://api.smith.langchain.com\"\n",
    "LANGSMITH_API_KEY= os.getenv(\"LANGSMITH_API_KEY\")"
   ]
  },
  {
   "cell_type": "code",
   "execution_count": 3,
   "id": "adbab31c",
   "metadata": {},
   "outputs": [],
   "source": [
    "from langchain_groq import ChatGroq\n",
    "llm = ChatGroq(model_name=\"Llama3-8b-8192\")"
   ]
  },
  {
   "cell_type": "code",
   "execution_count": 4,
   "id": "2a28f3e3",
   "metadata": {},
   "outputs": [],
   "source": [
    "from langchain_community.tools import DuckDuckGoSearchResults\n",
    "duck_duck_tool = DuckDuckGoSearchResults()"
   ]
  },
  {
   "cell_type": "code",
   "execution_count": 5,
   "id": "8cccec42",
   "metadata": {},
   "outputs": [],
   "source": [
    "from langchain_core.tools import tool\n",
    "from pydantic import BaseModel, Field\n",
    "from langgraph.graph import MessagesState, StateGraph, END\n",
    "from langgraph.prebuilt import ToolNode\n",
    "from langchain_core.messages import HumanMessage"
   ]
  },
  {
   "cell_type": "code",
   "execution_count": 6,
   "id": "6faada28",
   "metadata": {},
   "outputs": [],
   "source": [
    "@tool\n",
    "def get_city_details(prompt):\n",
    "    \"Should do a web search to find the required city details\"\n",
    "    response = duck_duck_tool.invoke(prompt)\n",
    "    return response"
   ]
  },
  {
   "cell_type": "code",
   "execution_count": 7,
   "id": "5a428cc7",
   "metadata": {},
   "outputs": [],
   "source": [
    "tools = [get_city_details]"
   ]
  },
  {
   "cell_type": "code",
   "execution_count": 8,
   "id": "970db912",
   "metadata": {},
   "outputs": [],
   "source": [
    "model_with_tools = llm.bind_tools(tools)"
   ]
  },
  {
   "cell_type": "code",
   "execution_count": 9,
   "id": "1ec9665f",
   "metadata": {},
   "outputs": [],
   "source": [
    "class CityDetails(BaseModel):\n",
    "    \"\"\"Respond to the user with this\"\"\"\n",
    "    state_name: str = Field(description=\"State name of the city\")\n",
    "    state_capital: str = Field(description=\"State capital of the city\")\n",
    "    country_name: str = Field(description=\"Country name of the city\")\n",
    "    country_capital: str = Field(description=\"Country capital of the city\")"
   ]
  },
  {
   "cell_type": "code",
   "execution_count": 10,
   "id": "734dbd92",
   "metadata": {},
   "outputs": [],
   "source": [
    "# Inherit 'messages' key from MessagesState, which is a list of chat messages\n",
    "class AgentState(MessagesState):\n",
    "    # Final structured response from the output\n",
    "    final_response: CityDetails"
   ]
  },
  {
   "cell_type": "code",
   "execution_count": 11,
   "id": "3e77bfb3",
   "metadata": {},
   "outputs": [],
   "source": [
    "model_with_structured_output = llm.with_structured_output(CityDetails)"
   ]
  },
  {
   "cell_type": "code",
   "execution_count": 12,
   "id": "936d08be",
   "metadata": {},
   "outputs": [],
   "source": [
    "def call_model(state: AgentState):\n",
    "    print(f\"This is 01 input from call model {state}\")\n",
    "    response = model_with_tools.invoke(state['messages'])\n",
    "    print(f\"This is 02 response from call model {response}\")\n",
    "    return {\"messages\": [response]}"
   ]
  },
  {
   "cell_type": "code",
   "execution_count": 13,
   "id": "0e22c131",
   "metadata": {},
   "outputs": [],
   "source": [
    "def should_continue(state: AgentState):\n",
    "    messages = state['messages']\n",
    "    last_message = messages[-1]\n",
    "    \n",
    "    if not last_message.tool_calls:\n",
    "        return 'respond'\n",
    "    else:\n",
    "        return 'continue'"
   ]
  },
  {
   "cell_type": "code",
   "execution_count": 14,
   "id": "1098339b",
   "metadata": {},
   "outputs": [],
   "source": [
    "def respond(state: AgentState):\n",
    "    print(f\"This is 03 state from respond {state}\")\n",
    "    response = model_with_structured_output.invoke([HumanMessage(content=state['messages'][-1].content)])\n",
    "    print(f\"This is 04 response from respond {response}\")\n",
    "    return {\"final_response\": response}"
   ]
  },
  {
   "cell_type": "code",
   "execution_count": 15,
   "id": "a717ef82",
   "metadata": {},
   "outputs": [],
   "source": [
    "workflow = StateGraph(AgentState)\n",
    "\n",
    "workflow.add_node(\"llm\", call_model)\n",
    "workflow.add_node(\"tools\", ToolNode(tools))\n",
    "workflow.add_node(\"respond\", respond)\n",
    "workflow.set_entry_point(\"llm\")\n",
    "workflow.add_conditional_edges(\"llm\", should_continue, {\"continue\":\"tools\", \"respond\":\"respond\"})\n",
    "workflow.add_edge(\"tools\",\"llm\")\n",
    "workflow.add_edge(\"respond\", END)\n",
    "graph = workflow.compile()"
   ]
  },
  {
   "cell_type": "code",
   "execution_count": 16,
   "id": "2033251a",
   "metadata": {},
   "outputs": [
    {
     "data": {
      "image/png": "[encoded data removed]",
      "text/plain": [
       "<IPython.core.display.Image object>"
      ]
     },
     "metadata": {},
     "output_type": "display_data"
    }
   ],
   "source": [
    "from IPython.display import Image, display\n",
    "display(Image(graph.get_graph().draw_mermaid_png()))"
   ]
  },
  {
   "cell_type": "code",
   "execution_count": 17,
   "id": "5eb81678",
   "metadata": {},
   "outputs": [
    {
     "name": "stdout",
     "output_type": "stream",
     "text": [
      "This is 01 input from call model {'messages': [HumanMessage(content='Tell me about the city details for gwalior.', additional_kwargs={}, response_metadata={}, id='447621b9-4fbe-4083-908a-93d681ab7d4c')]}\n",
      "This is 02 response from call model content='' additional_kwargs={'tool_calls': [{'id': 'call_yg3f', 'function': {'arguments': '{\"prompt\":\"Gwalior\"}', 'name': 'get_city_details'}, 'type': 'function'}]} response_metadata={'token_usage': {'completion_tokens': 76, 'prompt_tokens': 906, 'total_tokens': 982, 'completion_time': 0.063333333, 'prompt_time': 0.170740351, 'queue_time': 0.39639136999999997, 'total_time': 0.234073684}, 'model_name': 'Llama3-8b-8192', 'system_fingerprint': 'fp_dadc9d6142', 'finish_reason': 'tool_calls', 'logprobs': None} id='run--07ade392-4334-4b40-86a8-c95d659b942d-0' tool_calls=[{'name': 'get_city_details', 'args': {'prompt': 'Gwalior'}, 'id': 'call_yg3f', 'type': 'tool_call'}] usage_metadata={'input_tokens': 906, 'output_tokens': 76, 'total_tokens': 982}\n",
      "This is 01 input from call model {'messages': [HumanMessage(content='Tell me about the city details for gwalior.', additional_kwargs={}, response_metadata={}, id='447621b9-4fbe-4083-908a-93d681ab7d4c'), AIMessage(content='', additional_kwargs={'tool_calls': [{'id': 'call_yg3f', 'function': {'arguments': '{\"prompt\":\"Gwalior\"}', 'name': 'get_city_details'}, 'type': 'function'}]}, response_metadata={'token_usage': {'completion_tokens': 76, 'prompt_tokens': 906, 'total_tokens': 982, 'completion_time': 0.063333333, 'prompt_time': 0.170740351, 'queue_time': 0.39639136999999997, 'total_time': 0.234073684}, 'model_name': 'Llama3-8b-8192', 'system_fingerprint': 'fp_dadc9d6142', 'finish_reason': 'tool_calls', 'logprobs': None}, id='run--07ade392-4334-4b40-86a8-c95d659b942d-0', tool_calls=[{'name': 'get_city_details', 'args': {'prompt': 'Gwalior'}, 'id': 'call_yg3f', 'type': 'tool_call'}], usage_metadata={'input_tokens': 906, 'output_tokens': 76, 'total_tokens': 982}), ToolMessage(content=\"Error: DuckDuckGoSearchException(RatelimitException('https://html.duckduckgo.com/html 202 Ratelimit'))\\n Please fix your mistakes.\", name='get_city_details', id='a33d80eb-ec61-4dbd-9037-5835321abc72', tool_call_id='call_yg3f', status='error')]}\n",
      "This is 02 response from call model content='' additional_kwargs={'tool_calls': [{'id': 'call_gd87', 'function': {'arguments': '{\"prompt\":\"Gwalior\"}', 'name': 'get_city_details'}, 'type': 'function'}]} response_metadata={'token_usage': {'completion_tokens': 36, 'prompt_tokens': 1006, 'total_tokens': 1042, 'completion_time': 0.03, 'prompt_time': 0.129601035, 'queue_time': 0.25024086199999995, 'total_time': 0.159601035}, 'model_name': 'Llama3-8b-8192', 'system_fingerprint': 'fp_dadc9d6142', 'finish_reason': 'tool_calls', 'logprobs': None} id='run--d1ba670e-01f1-45e1-a251-c785fdd265aa-0' tool_calls=[{'name': 'get_city_details', 'args': {'prompt': 'Gwalior'}, 'id': 'call_gd87', 'type': 'tool_call'}] usage_metadata={'input_tokens': 1006, 'output_tokens': 36, 'total_tokens': 1042}\n",
      "This is 01 input from call model {'messages': [HumanMessage(content='Tell me about the city details for gwalior.', additional_kwargs={}, response_metadata={}, id='447621b9-4fbe-4083-908a-93d681ab7d4c'), AIMessage(content='', additional_kwargs={'tool_calls': [{'id': 'call_yg3f', 'function': {'arguments': '{\"prompt\":\"Gwalior\"}', 'name': 'get_city_details'}, 'type': 'function'}]}, response_metadata={'token_usage': {'completion_tokens': 76, 'prompt_tokens': 906, 'total_tokens': 982, 'completion_time': 0.063333333, 'prompt_time': 0.170740351, 'queue_time': 0.39639136999999997, 'total_time': 0.234073684}, 'model_name': 'Llama3-8b-8192', 'system_fingerprint': 'fp_dadc9d6142', 'finish_reason': 'tool_calls', 'logprobs': None}, id='run--07ade392-4334-4b40-86a8-c95d659b942d-0', tool_calls=[{'name': 'get_city_details', 'args': {'prompt': 'Gwalior'}, 'id': 'call_yg3f', 'type': 'tool_call'}], usage_metadata={'input_tokens': 906, 'output_tokens': 76, 'total_tokens': 982}), ToolMessage(content=\"Error: DuckDuckGoSearchException(RatelimitException('https://html.duckduckgo.com/html 202 Ratelimit'))\\n Please fix your mistakes.\", name='get_city_details', id='a33d80eb-ec61-4dbd-9037-5835321abc72', tool_call_id='call_yg3f', status='error'), AIMessage(content='', additional_kwargs={'tool_calls': [{'id': 'call_gd87', 'function': {'arguments': '{\"prompt\":\"Gwalior\"}', 'name': 'get_city_details'}, 'type': 'function'}]}, response_metadata={'token_usage': {'completion_tokens': 36, 'prompt_tokens': 1006, 'total_tokens': 1042, 'completion_time': 0.03, 'prompt_time': 0.129601035, 'queue_time': 0.25024086199999995, 'total_time': 0.159601035}, 'model_name': 'Llama3-8b-8192', 'system_fingerprint': 'fp_dadc9d6142', 'finish_reason': 'tool_calls', 'logprobs': None}, id='run--d1ba670e-01f1-45e1-a251-c785fdd265aa-0', tool_calls=[{'name': 'get_city_details', 'args': {'prompt': 'Gwalior'}, 'id': 'call_gd87', 'type': 'tool_call'}], usage_metadata={'input_tokens': 1006, 'output_tokens': 36, 'total_tokens': 1042}), ToolMessage(content=\"Error: DuckDuckGoSearchException(RatelimitException('https://lite.duckduckgo.com/lite/ 202 Ratelimit'))\\n Please fix your mistakes.\", name='get_city_details', id='63c79f27-5acd-4ed3-96ce-896f798b0b1b', tool_call_id='call_gd87', status='error')]}\n",
      "This is 02 response from call model content='' additional_kwargs={'tool_calls': [{'id': 'call_93vb', 'function': {'arguments': '{\"prompt\":\"Gwalior\"}', 'name': 'get_city_details'}, 'type': 'function'}]} response_metadata={'token_usage': {'completion_tokens': 36, 'prompt_tokens': 1106, 'total_tokens': 1142, 'completion_time': 0.03, 'prompt_time': 0.138452713, 'queue_time': 0.247951857, 'total_time': 0.168452713}, 'model_name': 'Llama3-8b-8192', 'system_fingerprint': 'fp_179b0f92c9', 'finish_reason': 'tool_calls', 'logprobs': None} id='run--000d6e1f-1a08-4acc-bf9d-8a1525470f9a-0' tool_calls=[{'name': 'get_city_details', 'args': {'prompt': 'Gwalior'}, 'id': 'call_93vb', 'type': 'tool_call'}] usage_metadata={'input_tokens': 1106, 'output_tokens': 36, 'total_tokens': 1142}\n",
      "This is 01 input from call model {'messages': [HumanMessage(content='Tell me about the city details for gwalior.', additional_kwargs={}, response_metadata={}, id='447621b9-4fbe-4083-908a-93d681ab7d4c'), AIMessage(content='', additional_kwargs={'tool_calls': [{'id': 'call_yg3f', 'function': {'arguments': '{\"prompt\":\"Gwalior\"}', 'name': 'get_city_details'}, 'type': 'function'}]}, response_metadata={'token_usage': {'completion_tokens': 76, 'prompt_tokens': 906, 'total_tokens': 982, 'completion_time': 0.063333333, 'prompt_time': 0.170740351, 'queue_time': 0.39639136999999997, 'total_time': 0.234073684}, 'model_name': 'Llama3-8b-8192', 'system_fingerprint': 'fp_dadc9d6142', 'finish_reason': 'tool_calls', 'logprobs': None}, id='run--07ade392-4334-4b40-86a8-c95d659b942d-0', tool_calls=[{'name': 'get_city_details', 'args': {'prompt': 'Gwalior'}, 'id': 'call_yg3f', 'type': 'tool_call'}], usage_metadata={'input_tokens': 906, 'output_tokens': 76, 'total_tokens': 982}), ToolMessage(content=\"Error: DuckDuckGoSearchException(RatelimitException('https://html.duckduckgo.com/html 202 Ratelimit'))\\n Please fix your mistakes.\", name='get_city_details', id='a33d80eb-ec61-4dbd-9037-5835321abc72', tool_call_id='call_yg3f', status='error'), AIMessage(content='', additional_kwargs={'tool_calls': [{'id': 'call_gd87', 'function': {'arguments': '{\"prompt\":\"Gwalior\"}', 'name': 'get_city_details'}, 'type': 'function'}]}, response_metadata={'token_usage': {'completion_tokens': 36, 'prompt_tokens': 1006, 'total_tokens': 1042, 'completion_time': 0.03, 'prompt_time': 0.129601035, 'queue_time': 0.25024086199999995, 'total_time': 0.159601035}, 'model_name': 'Llama3-8b-8192', 'system_fingerprint': 'fp_dadc9d6142', 'finish_reason': 'tool_calls', 'logprobs': None}, id='run--d1ba670e-01f1-45e1-a251-c785fdd265aa-0', tool_calls=[{'name': 'get_city_details', 'args': {'prompt': 'Gwalior'}, 'id': 'call_gd87', 'type': 'tool_call'}], usage_metadata={'input_tokens': 1006, 'output_tokens': 36, 'total_tokens': 1042}), ToolMessage(content=\"Error: DuckDuckGoSearchException(RatelimitException('https://lite.duckduckgo.com/lite/ 202 Ratelimit'))\\n Please fix your mistakes.\", name='get_city_details', id='63c79f27-5acd-4ed3-96ce-896f798b0b1b', tool_call_id='call_gd87', status='error'), AIMessage(content='', additional_kwargs={'tool_calls': [{'id': 'call_93vb', 'function': {'arguments': '{\"prompt\":\"Gwalior\"}', 'name': 'get_city_details'}, 'type': 'function'}]}, response_metadata={'token_usage': {'completion_tokens': 36, 'prompt_tokens': 1106, 'total_tokens': 1142, 'completion_time': 0.03, 'prompt_time': 0.138452713, 'queue_time': 0.247951857, 'total_time': 0.168452713}, 'model_name': 'Llama3-8b-8192', 'system_fingerprint': 'fp_179b0f92c9', 'finish_reason': 'tool_calls', 'logprobs': None}, id='run--000d6e1f-1a08-4acc-bf9d-8a1525470f9a-0', tool_calls=[{'name': 'get_city_details', 'args': {'prompt': 'Gwalior'}, 'id': 'call_93vb', 'type': 'tool_call'}], usage_metadata={'input_tokens': 1106, 'output_tokens': 36, 'total_tokens': 1142}), ToolMessage(content=\"Error: DuckDuckGoSearchException(RatelimitException('https://lite.duckduckgo.com/lite/ 202 Ratelimit'))\\n Please fix your mistakes.\", name='get_city_details', id='3f64fa91-79d0-4b92-ad81-0d06b4fc558f', tool_call_id='call_93vb', status='error')]}\n",
      "This is 02 response from call model content='' additional_kwargs={'tool_calls': [{'id': 'call_05qh', 'function': {'arguments': '{\"prompt\":\"Gwalior\"}', 'name': 'get_city_details'}, 'type': 'function'}]} response_metadata={'token_usage': {'completion_tokens': 36, 'prompt_tokens': 1206, 'total_tokens': 1242, 'completion_time': 0.03, 'prompt_time': 0.151122517, 'queue_time': 0.249594278, 'total_time': 0.181122517}, 'model_name': 'Llama3-8b-8192', 'system_fingerprint': 'fp_dadc9d6142', 'finish_reason': 'tool_calls', 'logprobs': None} id='run--79e57744-894b-4f05-a0fb-3274293c24b4-0' tool_calls=[{'name': 'get_city_details', 'args': {'prompt': 'Gwalior'}, 'id': 'call_05qh', 'type': 'tool_call'}] usage_metadata={'input_tokens': 1206, 'output_tokens': 36, 'total_tokens': 1242}\n",
      "This is 01 input from call model {'messages': [HumanMessage(content='Tell me about the city details for gwalior.', additional_kwargs={}, response_metadata={}, id='447621b9-4fbe-4083-908a-93d681ab7d4c'), AIMessage(content='', additional_kwargs={'tool_calls': [{'id': 'call_yg3f', 'function': {'arguments': '{\"prompt\":\"Gwalior\"}', 'name': 'get_city_details'}, 'type': 'function'}]}, response_metadata={'token_usage': {'completion_tokens': 76, 'prompt_tokens': 906, 'total_tokens': 982, 'completion_time': 0.063333333, 'prompt_time': 0.170740351, 'queue_time': 0.39639136999999997, 'total_time': 0.234073684}, 'model_name': 'Llama3-8b-8192', 'system_fingerprint': 'fp_dadc9d6142', 'finish_reason': 'tool_calls', 'logprobs': None}, id='run--07ade392-4334-4b40-86a8-c95d659b942d-0', tool_calls=[{'name': 'get_city_details', 'args': {'prompt': 'Gwalior'}, 'id': 'call_yg3f', 'type': 'tool_call'}], usage_metadata={'input_tokens': 906, 'output_tokens': 76, 'total_tokens': 982}), ToolMessage(content=\"Error: DuckDuckGoSearchException(RatelimitException('https://html.duckduckgo.com/html 202 Ratelimit'))\\n Please fix your mistakes.\", name='get_city_details', id='a33d80eb-ec61-4dbd-9037-5835321abc72', tool_call_id='call_yg3f', status='error'), AIMessage(content='', additional_kwargs={'tool_calls': [{'id': 'call_gd87', 'function': {'arguments': '{\"prompt\":\"Gwalior\"}', 'name': 'get_city_details'}, 'type': 'function'}]}, response_metadata={'token_usage': {'completion_tokens': 36, 'prompt_tokens': 1006, 'total_tokens': 1042, 'completion_time': 0.03, 'prompt_time': 0.129601035, 'queue_time': 0.25024086199999995, 'total_time': 0.159601035}, 'model_name': 'Llama3-8b-8192', 'system_fingerprint': 'fp_dadc9d6142', 'finish_reason': 'tool_calls', 'logprobs': None}, id='run--d1ba670e-01f1-45e1-a251-c785fdd265aa-0', tool_calls=[{'name': 'get_city_details', 'args': {'prompt': 'Gwalior'}, 'id': 'call_gd87', 'type': 'tool_call'}], usage_metadata={'input_tokens': 1006, 'output_tokens': 36, 'total_tokens': 1042}), ToolMessage(content=\"Error: DuckDuckGoSearchException(RatelimitException('https://lite.duckduckgo.com/lite/ 202 Ratelimit'))\\n Please fix your mistakes.\", name='get_city_details', id='63c79f27-5acd-4ed3-96ce-896f798b0b1b', tool_call_id='call_gd87', status='error'), AIMessage(content='', additional_kwargs={'tool_calls': [{'id': 'call_93vb', 'function': {'arguments': '{\"prompt\":\"Gwalior\"}', 'name': 'get_city_details'}, 'type': 'function'}]}, response_metadata={'token_usage': {'completion_tokens': 36, 'prompt_tokens': 1106, 'total_tokens': 1142, 'completion_time': 0.03, 'prompt_time': 0.138452713, 'queue_time': 0.247951857, 'total_time': 0.168452713}, 'model_name': 'Llama3-8b-8192', 'system_fingerprint': 'fp_179b0f92c9', 'finish_reason': 'tool_calls', 'logprobs': None}, id='run--000d6e1f-1a08-4acc-bf9d-8a1525470f9a-0', tool_calls=[{'name': 'get_city_details', 'args': {'prompt': 'Gwalior'}, 'id': 'call_93vb', 'type': 'tool_call'}], usage_metadata={'input_tokens': 1106, 'output_tokens': 36, 'total_tokens': 1142}), ToolMessage(content=\"Error: DuckDuckGoSearchException(RatelimitException('https://lite.duckduckgo.com/lite/ 202 Ratelimit'))\\n Please fix your mistakes.\", name='get_city_details', id='3f64fa91-79d0-4b92-ad81-0d06b4fc558f', tool_call_id='call_93vb', status='error'), AIMessage(content='', additional_kwargs={'tool_calls': [{'id': 'call_05qh', 'function': {'arguments': '{\"prompt\":\"Gwalior\"}', 'name': 'get_city_details'}, 'type': 'function'}]}, response_metadata={'token_usage': {'completion_tokens': 36, 'prompt_tokens': 1206, 'total_tokens': 1242, 'completion_time': 0.03, 'prompt_time': 0.151122517, 'queue_time': 0.249594278, 'total_time': 0.181122517}, 'model_name': 'Llama3-8b-8192', 'system_fingerprint': 'fp_dadc9d6142', 'finish_reason': 'tool_calls', 'logprobs': None}, id='run--79e57744-894b-4f05-a0fb-3274293c24b4-0', tool_calls=[{'name': 'get_city_details', 'args': {'prompt': 'Gwalior'}, 'id': 'call_05qh', 'type': 'tool_call'}], usage_metadata={'input_tokens': 1206, 'output_tokens': 36, 'total_tokens': 1242}), ToolMessage(content=\"Error: DuckDuckGoSearchException(RatelimitException('https://lite.duckduckgo.com/lite/ 202 Ratelimit'))\\n Please fix your mistakes.\", name='get_city_details', id='48a896aa-c57d-493a-9f71-4504c8de938b', tool_call_id='call_05qh', status='error')]}\n",
      "This is 02 response from call model content=\"<tool-use>Here's some information about Gwalior: Gwalior is a city in the state of Madhya Pradesh, India. It is known for its rich history and cultural heritage. The city is famous for its fort, which was built by Raja Man Singh Tomar in the 15th century. Gwalior is also home to several museums, temples, and palaces. It is a popular tourist destination in India.</tool-use>\" additional_kwargs={} response_metadata={'token_usage': {'completion_tokens': 94, 'prompt_tokens': 1306, 'total_tokens': 1400, 'completion_time': 0.078333333, 'prompt_time': 0.163927139, 'queue_time': 0.249014495, 'total_time': 0.242260472}, 'model_name': 'Llama3-8b-8192', 'system_fingerprint': 'fp_dadc9d6142', 'finish_reason': 'stop', 'logprobs': None} id='run--15c18e15-490e-4ba9-909c-afc5f172c3f5-0' usage_metadata={'input_tokens': 1306, 'output_tokens': 94, 'total_tokens': 1400}\n",
      "This is 03 state from respond {'messages': [HumanMessage(content='Tell me about the city details for gwalior.', additional_kwargs={}, response_metadata={}, id='447621b9-4fbe-4083-908a-93d681ab7d4c'), AIMessage(content='', additional_kwargs={'tool_calls': [{'id': 'call_yg3f', 'function': {'arguments': '{\"prompt\":\"Gwalior\"}', 'name': 'get_city_details'}, 'type': 'function'}]}, response_metadata={'token_usage': {'completion_tokens': 76, 'prompt_tokens': 906, 'total_tokens': 982, 'completion_time': 0.063333333, 'prompt_time': 0.170740351, 'queue_time': 0.39639136999999997, 'total_time': 0.234073684}, 'model_name': 'Llama3-8b-8192', 'system_fingerprint': 'fp_dadc9d6142', 'finish_reason': 'tool_calls', 'logprobs': None}, id='run--07ade392-4334-4b40-86a8-c95d659b942d-0', tool_calls=[{'name': 'get_city_details', 'args': {'prompt': 'Gwalior'}, 'id': 'call_yg3f', 'type': 'tool_call'}], usage_metadata={'input_tokens': 906, 'output_tokens': 76, 'total_tokens': 982}), ToolMessage(content=\"Error: DuckDuckGoSearchException(RatelimitException('https://html.duckduckgo.com/html 202 Ratelimit'))\\n Please fix your mistakes.\", name='get_city_details', id='a33d80eb-ec61-4dbd-9037-5835321abc72', tool_call_id='call_yg3f', status='error'), AIMessage(content='', additional_kwargs={'tool_calls': [{'id': 'call_gd87', 'function': {'arguments': '{\"prompt\":\"Gwalior\"}', 'name': 'get_city_details'}, 'type': 'function'}]}, response_metadata={'token_usage': {'completion_tokens': 36, 'prompt_tokens': 1006, 'total_tokens': 1042, 'completion_time': 0.03, 'prompt_time': 0.129601035, 'queue_time': 0.25024086199999995, 'total_time': 0.159601035}, 'model_name': 'Llama3-8b-8192', 'system_fingerprint': 'fp_dadc9d6142', 'finish_reason': 'tool_calls', 'logprobs': None}, id='run--d1ba670e-01f1-45e1-a251-c785fdd265aa-0', tool_calls=[{'name': 'get_city_details', 'args': {'prompt': 'Gwalior'}, 'id': 'call_gd87', 'type': 'tool_call'}], usage_metadata={'input_tokens': 1006, 'output_tokens': 36, 'total_tokens': 1042}), ToolMessage(content=\"Error: DuckDuckGoSearchException(RatelimitException('https://lite.duckduckgo.com/lite/ 202 Ratelimit'))\\n Please fix your mistakes.\", name='get_city_details', id='63c79f27-5acd-4ed3-96ce-896f798b0b1b', tool_call_id='call_gd87', status='error'), AIMessage(content='', additional_kwargs={'tool_calls': [{'id': 'call_93vb', 'function': {'arguments': '{\"prompt\":\"Gwalior\"}', 'name': 'get_city_details'}, 'type': 'function'}]}, response_metadata={'token_usage': {'completion_tokens': 36, 'prompt_tokens': 1106, 'total_tokens': 1142, 'completion_time': 0.03, 'prompt_time': 0.138452713, 'queue_time': 0.247951857, 'total_time': 0.168452713}, 'model_name': 'Llama3-8b-8192', 'system_fingerprint': 'fp_179b0f92c9', 'finish_reason': 'tool_calls', 'logprobs': None}, id='run--000d6e1f-1a08-4acc-bf9d-8a1525470f9a-0', tool_calls=[{'name': 'get_city_details', 'args': {'prompt': 'Gwalior'}, 'id': 'call_93vb', 'type': 'tool_call'}], usage_metadata={'input_tokens': 1106, 'output_tokens': 36, 'total_tokens': 1142}), ToolMessage(content=\"Error: DuckDuckGoSearchException(RatelimitException('https://lite.duckduckgo.com/lite/ 202 Ratelimit'))\\n Please fix your mistakes.\", name='get_city_details', id='3f64fa91-79d0-4b92-ad81-0d06b4fc558f', tool_call_id='call_93vb', status='error'), AIMessage(content='', additional_kwargs={'tool_calls': [{'id': 'call_05qh', 'function': {'arguments': '{\"prompt\":\"Gwalior\"}', 'name': 'get_city_details'}, 'type': 'function'}]}, response_metadata={'token_usage': {'completion_tokens': 36, 'prompt_tokens': 1206, 'total_tokens': 1242, 'completion_time': 0.03, 'prompt_time': 0.151122517, 'queue_time': 0.249594278, 'total_time': 0.181122517}, 'model_name': 'Llama3-8b-8192', 'system_fingerprint': 'fp_dadc9d6142', 'finish_reason': 'tool_calls', 'logprobs': None}, id='run--79e57744-894b-4f05-a0fb-3274293c24b4-0', tool_calls=[{'name': 'get_city_details', 'args': {'prompt': 'Gwalior'}, 'id': 'call_05qh', 'type': 'tool_call'}], usage_metadata={'input_tokens': 1206, 'output_tokens': 36, 'total_tokens': 1242}), ToolMessage(content=\"Error: DuckDuckGoSearchException(RatelimitException('https://lite.duckduckgo.com/lite/ 202 Ratelimit'))\\n Please fix your mistakes.\", name='get_city_details', id='48a896aa-c57d-493a-9f71-4504c8de938b', tool_call_id='call_05qh', status='error'), AIMessage(content=\"<tool-use>Here's some information about Gwalior: Gwalior is a city in the state of Madhya Pradesh, India. It is known for its rich history and cultural heritage. The city is famous for its fort, which was built by Raja Man Singh Tomar in the 15th century. Gwalior is also home to several museums, temples, and palaces. It is a popular tourist destination in India.</tool-use>\", additional_kwargs={}, response_metadata={'token_usage': {'completion_tokens': 94, 'prompt_tokens': 1306, 'total_tokens': 1400, 'completion_time': 0.078333333, 'prompt_time': 0.163927139, 'queue_time': 0.249014495, 'total_time': 0.242260472}, 'model_name': 'Llama3-8b-8192', 'system_fingerprint': 'fp_dadc9d6142', 'finish_reason': 'stop', 'logprobs': None}, id='run--15c18e15-490e-4ba9-909c-afc5f172c3f5-0', usage_metadata={'input_tokens': 1306, 'output_tokens': 94, 'total_tokens': 1400})]}\n",
      "This is 04 response from respond state_name='Madhya Pradesh' state_capital='Bhopal' country_name='India' country_capital='New Delhi'\n"
     ]
    }
   ],
   "source": [
    "answer = graph.invoke(input={\"messages\":[(\"human\", \"Tell me about the city details for gwalior.\")]})"
   ]
  },
  {
   "cell_type": "code",
   "execution_count": 19,
   "id": "f91088db",
   "metadata": {},
   "outputs": [
    {
     "data": {
      "text/plain": [
       "CityDetails(state_name='Madhya Pradesh', state_capital='Bhopal', country_name='India', country_capital='New Delhi')"
      ]
     },
     "execution_count": 19,
     "metadata": {},
     "output_type": "execute_result"
    }
   ],
   "source": [
    "answer['final_response']"
   ]
  },
  {
   "cell_type": "code",
   "execution_count": 20,
   "id": "75568669",
   "metadata": {},
   "outputs": [
    {
     "data": {
      "text/plain": [
       "[HumanMessage(content='Tell me about the city details for gwalior.', additional_kwargs={}, response_metadata={}, id='447621b9-4fbe-4083-908a-93d681ab7d4c'),\n",
       " AIMessage(content='', additional_kwargs={'tool_calls': [{'id': 'call_yg3f', 'function': {'arguments': '{\"prompt\":\"Gwalior\"}', 'name': 'get_city_details'}, 'type': 'function'}]}, response_metadata={'token_usage': {'completion_tokens': 76, 'prompt_tokens': 906, 'total_tokens': 982, 'completion_time': 0.063333333, 'prompt_time': 0.170740351, 'queue_time': 0.39639136999999997, 'total_time': 0.234073684}, 'model_name': 'Llama3-8b-8192', 'system_fingerprint': 'fp_dadc9d6142', 'finish_reason': 'tool_calls', 'logprobs': None}, id='run--07ade392-4334-4b40-86a8-c95d659b942d-0', tool_calls=[{'name': 'get_city_details', 'args': {'prompt': 'Gwalior'}, 'id': 'call_yg3f', 'type': 'tool_call'}], usage_metadata={'input_tokens': 906, 'output_tokens': 76, 'total_tokens': 982}),\n",
       " ToolMessage(content=\"Error: DuckDuckGoSearchException(RatelimitException('https://html.duckduckgo.com/html 202 Ratelimit'))\\n Please fix your mistakes.\", name='get_city_details', id='a33d80eb-ec61-4dbd-9037-5835321abc72', tool_call_id='call_yg3f', status='error'),\n",
       " AIMessage(content='', additional_kwargs={'tool_calls': [{'id': 'call_gd87', 'function': {'arguments': '{\"prompt\":\"Gwalior\"}', 'name': 'get_city_details'}, 'type': 'function'}]}, response_metadata={'token_usage': {'completion_tokens': 36, 'prompt_tokens': 1006, 'total_tokens': 1042, 'completion_time': 0.03, 'prompt_time': 0.129601035, 'queue_time': 0.25024086199999995, 'total_time': 0.159601035}, 'model_name': 'Llama3-8b-8192', 'system_fingerprint': 'fp_dadc9d6142', 'finish_reason': 'tool_calls', 'logprobs': None}, id='run--d1ba670e-01f1-45e1-a251-c785fdd265aa-0', tool_calls=[{'name': 'get_city_details', 'args': {'prompt': 'Gwalior'}, 'id': 'call_gd87', 'type': 'tool_call'}], usage_metadata={'input_tokens': 1006, 'output_tokens': 36, 'total_tokens': 1042}),\n",
       " ToolMessage(content=\"Error: DuckDuckGoSearchException(RatelimitException('https://lite.duckduckgo.com/lite/ 202 Ratelimit'))\\n Please fix your mistakes.\", name='get_city_details', id='63c79f27-5acd-4ed3-96ce-896f798b0b1b', tool_call_id='call_gd87', status='error'),\n",
       " AIMessage(content='', additional_kwargs={'tool_calls': [{'id': 'call_93vb', 'function': {'arguments': '{\"prompt\":\"Gwalior\"}', 'name': 'get_city_details'}, 'type': 'function'}]}, response_metadata={'token_usage': {'completion_tokens': 36, 'prompt_tokens': 1106, 'total_tokens': 1142, 'completion_time': 0.03, 'prompt_time': 0.138452713, 'queue_time': 0.247951857, 'total_time': 0.168452713}, 'model_name': 'Llama3-8b-8192', 'system_fingerprint': 'fp_179b0f92c9', 'finish_reason': 'tool_calls', 'logprobs': None}, id='run--000d6e1f-1a08-4acc-bf9d-8a1525470f9a-0', tool_calls=[{'name': 'get_city_details', 'args': {'prompt': 'Gwalior'}, 'id': 'call_93vb', 'type': 'tool_call'}], usage_metadata={'input_tokens': 1106, 'output_tokens': 36, 'total_tokens': 1142}),\n",
       " ToolMessage(content=\"Error: DuckDuckGoSearchException(RatelimitException('https://lite.duckduckgo.com/lite/ 202 Ratelimit'))\\n Please fix your mistakes.\", name='get_city_details', id='3f64fa91-79d0-4b92-ad81-0d06b4fc558f', tool_call_id='call_93vb', status='error'),\n",
       " AIMessage(content='', additional_kwargs={'tool_calls': [{'id': 'call_05qh', 'function': {'arguments': '{\"prompt\":\"Gwalior\"}', 'name': 'get_city_details'}, 'type': 'function'}]}, response_metadata={'token_usage': {'completion_tokens': 36, 'prompt_tokens': 1206, 'total_tokens': 1242, 'completion_time': 0.03, 'prompt_time': 0.151122517, 'queue_time': 0.249594278, 'total_time': 0.181122517}, 'model_name': 'Llama3-8b-8192', 'system_fingerprint': 'fp_dadc9d6142', 'finish_reason': 'tool_calls', 'logprobs': None}, id='run--79e57744-894b-4f05-a0fb-3274293c24b4-0', tool_calls=[{'name': 'get_city_details', 'args': {'prompt': 'Gwalior'}, 'id': 'call_05qh', 'type': 'tool_call'}], usage_metadata={'input_tokens': 1206, 'output_tokens': 36, 'total_tokens': 1242}),\n",
       " ToolMessage(content=\"Error: DuckDuckGoSearchException(RatelimitException('https://lite.duckduckgo.com/lite/ 202 Ratelimit'))\\n Please fix your mistakes.\", name='get_city_details', id='48a896aa-c57d-493a-9f71-4504c8de938b', tool_call_id='call_05qh', status='error'),\n",
       " AIMessage(content=\"<tool-use>Here's some information about Gwalior: Gwalior is a city in the state of Madhya Pradesh, India. It is known for its rich history and cultural heritage. The city is famous for its fort, which was built by Raja Man Singh Tomar in the 15th century. Gwalior is also home to several museums, temples, and palaces. It is a popular tourist destination in India.</tool-use>\", additional_kwargs={}, response_metadata={'token_usage': {'completion_tokens': 94, 'prompt_tokens': 1306, 'total_tokens': 1400, 'completion_time': 0.078333333, 'prompt_time': 0.163927139, 'queue_time': 0.249014495, 'total_time': 0.242260472}, 'model_name': 'Llama3-8b-8192', 'system_fingerprint': 'fp_dadc9d6142', 'finish_reason': 'stop', 'logprobs': None}, id='run--15c18e15-490e-4ba9-909c-afc5f172c3f5-0', usage_metadata={'input_tokens': 1306, 'output_tokens': 94, 'total_tokens': 1400})]"
      ]
     },
     "execution_count": 20,
     "metadata": {},
     "output_type": "execute_result"
    }
   ],
   "source": [
    "answer['messages']"
   ]
  },
  {
   "cell_type": "code",
   "execution_count": null,
   "id": "d1b72a66",
   "metadata": {},
   "outputs": [],
   "source": []
  }
 ],
 "metadata": {
  "kernelspec": {
   "display_name": "venv",
   "language": "python",
   "name": "python3"
  },
  "language_info": {
   "codemirror_mode": {
    "name": "ipython",
    "version": 3
   },
   "file_extension": ".py",
   "mimetype": "text/x-python",
   "name": "python",
   "nbconvert_exporter": "python",
   "pygments_lexer": "ipython3",
   "version": "3.13.1"
  }
 },
 "nbformat": 4,
 "nbformat_minor": 5
}
