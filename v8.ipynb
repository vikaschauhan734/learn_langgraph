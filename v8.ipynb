{
 "cells": [
  {
   "cell_type": "markdown",
   "id": "91d4c395",
   "metadata": {},
   "source": [
    "#### Adding RAG to Langgraph Workflow"
   ]
  },
  {
   "cell_type": "code",
   "execution_count": 1,
   "id": "f5f14091",
   "metadata": {},
   "outputs": [
    {
     "name": "stderr",
     "output_type": "stream",
     "text": [
      "d:\\learning\\learn_langgraph_ss\\venv\\Lib\\site-packages\\tqdm\\auto.py:21: TqdmWarning: IProgress not found. Please update jupyter and ipywidgets. See https://ipywidgets.readthedocs.io/en/stable/user_install.html\n",
      "  from .autonotebook import tqdm as notebook_tqdm\n"
     ]
    }
   ],
   "source": [
    "from langchain_google_genai import GoogleGenerativeAIEmbeddings\n",
    "embeddings = GoogleGenerativeAIEmbeddings(model=\"models/embedding-001\")"
   ]
  },
  {
   "cell_type": "code",
   "execution_count": 2,
   "id": "50b8bddb",
   "metadata": {},
   "outputs": [
    {
     "data": {
      "text/plain": [
       "True"
      ]
     },
     "execution_count": 2,
     "metadata": {},
     "output_type": "execute_result"
    }
   ],
   "source": [
    "import os\n",
    "from dotenv import load_dotenv\n",
    "load_dotenv()"
   ]
  },
  {
   "cell_type": "code",
   "execution_count": 3,
   "id": "965b3ffc",
   "metadata": {},
   "outputs": [],
   "source": [
    "GOOGLE_API_KEY = os.getenv(\"GOOGLE_API_KEY\")\n",
    "TAVILY_API_KEY = os.getenv(\"TAVILY_API_KEY\")\n",
    "GROQ_API_KEY = os.getenv(\"GROQ_API_KEY\")\n",
    "LANGCHAIN_API_KEY = os.getenv(\"LANGCHAIN_API_KEY\")\n",
    "LANGCHAIN_PROJECT = os.getenv(\"LANGCHAIN_PROJECT\")\n",
    "LANGSMITH_TRACING=\"true\"\n",
    "LANGSMITH_ENDPOINT=\"https://api.smith.langchain.com\"\n",
    "LANGSMITH_API_KEY= os.getenv(\"LANGSMITH_API_KEY\")"
   ]
  },
  {
   "cell_type": "code",
   "execution_count": 4,
   "id": "56f742f0",
   "metadata": {},
   "outputs": [],
   "source": [
    "from langchain_groq import ChatGroq\n",
    "llm = ChatGroq(model_name=\"Llama3-8b-8192\")"
   ]
  },
  {
   "cell_type": "code",
   "execution_count": 5,
   "id": "1a87e410",
   "metadata": {},
   "outputs": [],
   "source": [
    "from langchain_core.output_parsers import StrOutputParser\n",
    "from langchain_core.prompts import ChatPromptTemplate\n",
    "from langchain_core.runnables import RunnablePassthrough\n",
    "from langchain_community.document_loaders import TextLoader, DirectoryLoader\n",
    "from langchain_community.vectorstores import Chroma\n",
    "from langchain.text_splitter import RecursiveCharacterTextSplitter"
   ]
  },
  {
   "cell_type": "code",
   "execution_count": 6,
   "id": "c35aa3d6",
   "metadata": {},
   "outputs": [
    {
     "name": "stderr",
     "output_type": "stream",
     "text": [
      "C:\\Users\\Vikas Chauhan\\AppData\\Local\\Temp\\ipykernel_17604\\1703995170.py:14: LangChainDeprecationWarning: The method `BaseRetriever.get_relevant_documents` was deprecated in langchain-core 0.1.46 and will be removed in 1.0. Use :meth:`~invoke` instead.\n",
      "  docs = retriever.get_relevant_documents(query)\n"
     ]
    },
    {
     "name": "stdout",
     "output_type": "stream",
     "text": [
      "{'source': 'data\\\\llama3.txt'}\n",
      "Alongside the release of Llama 3, Meta added virtual assistant features to Facebook and WhatsApp in\n",
      "page_content='Alongside the release of Llama 3, Meta added virtual assistant features to Facebook and WhatsApp in' metadata={'source': 'data\\\\llama3.txt'}\n",
      "page_content='by Meta AI starting in February 2023.[2][3] The latest version is Llama 3 released in April' metadata={'source': 'data\\\\llama3.txt'}\n",
      "page_content='Llama 2, Meta AI started releasing instruction fine-tuned versions alongside foundation models.[7]' metadata={'source': 'data\\\\llama3.txt'}\n"
     ]
    }
   ],
   "source": [
    "loader = DirectoryLoader(\"data\",glob=\"./*.txt\",loader_cls=TextLoader)\n",
    "docs = loader.load()\n",
    "text_splitter = RecursiveCharacterTextSplitter(\n",
    "    chunk_size = 100,\n",
    "    chunk_overlap = 50\n",
    ")\n",
    "new_docs = text_splitter.split_documents(documents=docs)\n",
    "doc_strings = [doc.page_content for doc in new_docs]\n",
    "\n",
    "db = Chroma.from_documents(new_docs, embeddings)\n",
    "retriever = db.as_retriever(search_kwargs={\"k\":3})\n",
    "\n",
    "query = \"What is meta llama3?\"\n",
    "docs = retriever.get_relevant_documents(query)\n",
    "print(docs[0].metadata)\n",
    "print(docs[0].page_content)\n",
    "\n",
    "for doc in docs:\n",
    "    print(doc)"
   ]
  },
  {
   "cell_type": "code",
   "execution_count": 7,
   "id": "8aea82d2",
   "metadata": {},
   "outputs": [],
   "source": [
    "def function_1(AgentState):\n",
    "    message = AgentState[\"messages\"]\n",
    "    question = message[-1]\n",
    "    complete_prompt = \"Your task is to provide only the brief answer based on the user query. \\\n",
    "        Don't include too much reasoning. Following is the user query: \" + question\n",
    "    response = llm.invoke(complete_prompt)\n",
    "    AgentState['messages'].append(response.content)\n",
    "    return AgentState"
   ]
  },
  {
   "cell_type": "code",
   "execution_count": 8,
   "id": "920c1e91",
   "metadata": {},
   "outputs": [],
   "source": [
    "def function_2(AgentState):\n",
    "    messages = AgentState['messages']\n",
    "    question = messages[0]\n",
    "    \n",
    "    template = \"\"\"Answer the question based only on the following context:\n",
    "    {context}\n",
    "    \n",
    "    Question: {question}\n",
    "    \"\"\"\n",
    "    prompt = ChatPromptTemplate.from_template(template)\n",
    "    \n",
    "    retrieval_chain = (\n",
    "        {\"context\": retriever, \"question\": RunnablePassthrough()}\n",
    "        | prompt\n",
    "        | llm\n",
    "        | StrOutputParser()\n",
    "        )\n",
    "    result = retrieval_chain.invoke(question)\n",
    "    return result"
   ]
  },
  {
   "cell_type": "code",
   "execution_count": 9,
   "id": "929a8ac7",
   "metadata": {},
   "outputs": [],
   "source": [
    "from langgraph.graph import Graph\n",
    "workflow4 = Graph()"
   ]
  },
  {
   "cell_type": "code",
   "execution_count": 10,
   "id": "1fb2e179",
   "metadata": {},
   "outputs": [],
   "source": [
    "workflow4.add_node(\"LLM\", function_1)\n",
    "workflow4.add_node(\"RAGtool\", function_2)\n",
    "workflow4.add_edge(\"LLM\", \"RAGtool\")\n",
    "workflow4.set_entry_point(\"LLM\")\n",
    "workflow4.set_finish_point(\"RAGtool\")\n",
    "app4 = workflow4.compile()"
   ]
  },
  {
   "cell_type": "code",
   "execution_count": 11,
   "id": "187d73c9",
   "metadata": {},
   "outputs": [
    {
     "data": {
      "image/png": "[encoded data removed]",
      "text/plain": [
       "<IPython.core.display.Image object>"
      ]
     },
     "metadata": {},
     "output_type": "display_data"
    }
   ],
   "source": [
    "from IPython.display import Image, display\n",
    "\n",
    "try:\n",
    "    display(Image(app4.get_graph().draw_mermaid_png()))\n",
    "except Exception as e:\n",
    "    print(e)"
   ]
  },
  {
   "cell_type": "code",
   "execution_count": 12,
   "id": "273a0114",
   "metadata": {},
   "outputs": [
    {
     "data": {
      "text/plain": [
       "'According to the provided context, here\\'s what can be said about the Llama3 model:\\n\\n* The 8B parameter version of Llama 3 is considered \"surprisingly capable\" given its size.\\n* Llama models, including Llama 3, have been compared favorably against other large language models.\\n* The 8B parameter version of Llama 3 has been reported to perform well in most benchmarks, alongside Claude.'"
      ]
     },
     "execution_count": 12,
     "metadata": {},
     "output_type": "execute_result"
    }
   ],
   "source": [
    "app4.invoke({\"messages\":[\"Tell me about llama3 model\"]})"
   ]
  },
  {
   "cell_type": "code",
   "execution_count": 13,
   "id": "73dcf203",
   "metadata": {},
   "outputs": [
    {
     "name": "stdout",
     "output_type": "stream",
     "text": [
      "Output from node 'LLM':\n",
      "----------------------------\n",
      "{'messages': ['Tell me about llama3 model', \"The Llama-3 model is a large-scale language model developed by Facebook AI and Carnegie Mellon University. It's a multimodal transformer model that can process text, images, and audio, achieving state-of-the-art results in several natural language processing tasks.\"]}\n",
      "\n",
      "----------------------------\n",
      "\n",
      "Output from node 'RAGtool':\n",
      "----------------------------\n",
      "According to the provided context, here's what can be inferred about the Llama3 model:\n",
      "\n",
      "* The 8B parameter version of Llama 3 is considered \"surprisingly capable\" given its size.\n",
      "* Llama models, including Llama 3, have been compared favorably against other large language models.\n",
      "* In most benchmarks, Llama 3 (specifically the 8B parameter version) outperformed Claude and other models, according to Meta AI.\n",
      "\n",
      "----------------------------\n",
      "\n"
     ]
    }
   ],
   "source": [
    "input = {\"messages\":[\"Tell me about llama3 model\"]}\n",
    "for output in app4.stream(input):\n",
    "    for key, value in output.items():\n",
    "        print(f\"Output from node '{key}':\")\n",
    "        print(\"----------------------------\")\n",
    "        print(value)\n",
    "        print(\"\\n----------------------------\\n\")"
   ]
  },
  {
   "cell_type": "code",
   "execution_count": 14,
   "id": "1d8ba21f",
   "metadata": {},
   "outputs": [
    {
     "name": "stdout",
     "output_type": "stream",
     "text": [
      "Output from node 'LLM':\n",
      "----------------------------\n",
      "{'messages': ['What is the capital of India?', 'New Delhi']}\n",
      "\n",
      "----------------------------\n",
      "\n",
      "Output from node 'RAGtool':\n",
      "----------------------------\n",
      "I'm not seeing any information about the capital of India in the provided context. The context only appears to be about \"Llama 3\" and mentions of other models and websites. I'd be happy to help with any other question that can be answered based on this context!\n",
      "\n",
      "----------------------------\n",
      "\n"
     ]
    }
   ],
   "source": [
    "input = {\"messages\":[\"What is the capital of India?\"]}\n",
    "for output in app4.stream(input):\n",
    "    for key, value in output.items():\n",
    "        print(f\"Output from node '{key}':\")\n",
    "        print(\"----------------------------\")\n",
    "        print(value)\n",
    "        print(\"\\n----------------------------\\n\")"
   ]
  },
  {
   "cell_type": "markdown",
   "id": "908cd1ef",
   "metadata": {},
   "source": [
    "#### New Workflow"
   ]
  },
  {
   "cell_type": "code",
   "execution_count": 28,
   "id": "e21c0827",
   "metadata": {},
   "outputs": [
    {
     "name": "stdout",
     "output_type": "stream",
     "text": [
      "{'source': 'data2\\\\indian_economy.txt'}\n",
      "India’s industrial growth has outpaced expectations, raising hopes that the economy will avoid a\n",
      "page_content='India’s industrial growth has outpaced expectations, raising hopes that the economy will avoid a' metadata={'source': 'data2\\\\indian_economy.txt'}\n",
      "page_content='India’s industrial growth has outpaced expectations, raising hopes that the economy will avoid a' metadata={'source': 'data2\\\\indian_economy.txt'}\n",
      "page_content='Industrial Revival and Economic Optimism for India' metadata={'source': 'data2\\\\indian_economy.txt'}\n"
     ]
    }
   ],
   "source": [
    "loader2 = DirectoryLoader(\"data2\",glob=\"./*.txt\",loader_cls=TextLoader)\n",
    "docs2 = loader2.load()\n",
    "text_splitter = RecursiveCharacterTextSplitter(\n",
    "    chunk_size = 100,\n",
    "    chunk_overlap = 50\n",
    ")\n",
    "new_docs2 = text_splitter.split_documents(documents=docs2)\n",
    "doc_strings2 = [doc.page_content for doc in new_docs2]\n",
    "\n",
    "db2 = Chroma.from_documents(new_docs2, embeddings)\n",
    "retriever2 = db2.as_retriever(search_kwargs={\"k\":3})\n",
    "\n",
    "query = \"India's Industrial Growth\"\n",
    "docs2 = retriever2.get_relevant_documents(query)\n",
    "print(docs2[0].metadata)\n",
    "print(docs2[0].page_content)\n",
    "\n",
    "for doc in docs2:\n",
    "    print(doc)"
   ]
  },
  {
   "cell_type": "code",
   "execution_count": 29,
   "id": "1edfc0a0",
   "metadata": {},
   "outputs": [],
   "source": [
    "from typing import TypedDict, Annotated, Sequence\n",
    "import operator\n",
    "from langchain_core.messages import BaseMessage\n",
    "from langchain.prompts import PromptTemplate"
   ]
  },
  {
   "cell_type": "code",
   "execution_count": 30,
   "id": "bd4ccd50",
   "metadata": {},
   "outputs": [],
   "source": [
    "class AgentState(TypedDict):\n",
    "    # The 'messages' field should be a sequence of strings, and we annote it with 'operator.add'\n",
    "    # This implies we might want to \"add\" new messages to the sequence later\n",
    "    messages: Annotated[Sequence[BaseMessage], operator.add]"
   ]
  },
  {
   "cell_type": "code",
   "execution_count": 31,
   "id": "ff622504",
   "metadata": {},
   "outputs": [],
   "source": [
    "from pydantic import BaseModel, Field\n",
    "class TopicSelectionParser(BaseModel):\n",
    "    Topic: str = Field(description='Selected Topic')\n",
    "    Reasoning: str = Field(description='Reasoning behind topic selection')"
   ]
  },
  {
   "cell_type": "code",
   "execution_count": 32,
   "id": "f0d1fd12",
   "metadata": {},
   "outputs": [],
   "source": [
    "from langchain.output_parsers import PydanticOutputParser\n",
    "parser = PydanticOutputParser(pydantic_object=TopicSelectionParser)"
   ]
  },
  {
   "cell_type": "code",
   "execution_count": 33,
   "id": "5939a761",
   "metadata": {},
   "outputs": [],
   "source": [
    "def function_1(state):\n",
    "    message = state['messages']\n",
    "    question = message[-1]\n",
    "    print(question)\n",
    "    \n",
    "    template = \"\"\"\n",
    "    Your task is to classify the given user query into one of the following categories: [India, Not Related].\n",
    "    Only respond with the category name and nothing else.\n",
    "    \n",
    "    user query: {question}\n",
    "    {format_instructions}\n",
    "    \"\"\"\n",
    "    \n",
    "    prompt = PromptTemplate(template=template,\n",
    "                            input_variables=[question],\n",
    "                            partial_variables={\n",
    "                                \"format_instructions\": parser.get_format_instructions()\n",
    "                            })\n",
    "    \n",
    "    chain = prompt | llm | parser\n",
    "    \n",
    "    response = chain.invoke({\"question\": question, \"format_instructions\": parser.get_format_instructions()})\n",
    "    print(response)\n",
    "    \n",
    "    return {\"messages\": [response.Topic]}"
   ]
  },
  {
   "cell_type": "code",
   "execution_count": 34,
   "id": "c0808933",
   "metadata": {},
   "outputs": [],
   "source": [
    "def router(state):\n",
    "    print(\"-> Router ->\")\n",
    "    \n",
    "    messages = state['messages']\n",
    "    last_message = messages[-1]\n",
    "    print(last_message)\n",
    "    if 'India' in last_message:\n",
    "        return 'RAG Call'\n",
    "    else:\n",
    "        return 'LLM Call'"
   ]
  },
  {
   "cell_type": "code",
   "execution_count": 35,
   "id": "a4d4814f",
   "metadata": {},
   "outputs": [],
   "source": [
    "def function_2(state):\n",
    "    print(\"-> Calling RAG ->\")\n",
    "    messages = state['messages']\n",
    "    question = messages[0]\n",
    "    print(question)\n",
    "    \n",
    "    template = \"\"\"Answer the question based only on the following context:\n",
    "    {context}\n",
    "    \n",
    "    Question: {question}\n",
    "    \"\"\"\n",
    "    prompt = ChatPromptTemplate.from_template(template)\n",
    "    print(prompt)\n",
    "    \n",
    "    retrieval_chain = (\n",
    "        {\"context\": retriever2, \"question\":RunnablePassthrough()}\n",
    "        | prompt\n",
    "        | llm\n",
    "        | StrOutputParser()\n",
    "    )\n",
    "    result = retrieval_chain.invoke(question)\n",
    "    return {\"messages\": [result]}"
   ]
  },
  {
   "cell_type": "code",
   "execution_count": 36,
   "id": "f4d0c481",
   "metadata": {},
   "outputs": [],
   "source": [
    "def function_3(state):\n",
    "    print(\"-> Calling LLM ->\")\n",
    "    messages = state['messages']\n",
    "    question = messages[0]\n",
    "    \n",
    "    complete_query = \"Answer the follow question with your knowledge of the real world, following is the user question: \" + question\n",
    "    response = llm.invoke(complete_query)\n",
    "    return {\"messages\":[response.content]}"
   ]
  },
  {
   "cell_type": "code",
   "execution_count": 37,
   "id": "5838474e",
   "metadata": {},
   "outputs": [],
   "source": [
    "from langgraph.graph import StateGraph, END\n",
    "\n",
    "workflow5 = StateGraph(AgentState)\n",
    "\n",
    "workflow5.add_node(\"agent\", function_1)\n",
    "workflow5.add_node(\"RAG\", function_2)\n",
    "workflow5.add_node(\"LLM\", function_3)\n",
    "workflow5.set_entry_point(\"agent\")\n",
    "workflow5.add_conditional_edges(\n",
    "    \"agent\",\n",
    "    router,\n",
    "    {\n",
    "        \"RAG Call\": \"RAG\",\n",
    "        \"LLM Call\": \"LLM\",\n",
    "    }\n",
    ")\n",
    "workflow5.add_edge(\"RAG\",END)\n",
    "workflow5.add_edge(\"LLM\",END)\n",
    "app5 = workflow5.compile()"
   ]
  },
  {
   "cell_type": "code",
   "execution_count": 38,
   "id": "a7aae592",
   "metadata": {},
   "outputs": [
    {
     "data": {
      "image/png": "[encoded data removed]",
      "text/plain": [
       "<IPython.core.display.Image object>"
      ]
     },
     "metadata": {},
     "output_type": "display_data"
    }
   ],
   "source": [
    "from IPython.display import Image, display\n",
    "\n",
    "try:\n",
    "    display(Image(app5.get_graph().draw_mermaid_png()))\n",
    "except Exception as e:\n",
    "    print(e)"
   ]
  },
  {
   "cell_type": "code",
   "execution_count": 39,
   "id": "d642ff99",
   "metadata": {},
   "outputs": [
    {
     "name": "stdout",
     "output_type": "stream",
     "text": [
      "Tell me about India's Industrial Growth\n",
      "Topic='India' Reasoning=\"User query is about India's Industrial Growth\"\n",
      "-> Router ->\n",
      "India\n",
      "-> Calling RAG ->\n",
      "Tell me about India's Industrial Growth\n",
      "input_variables=['context', 'question'] input_types={} partial_variables={} messages=[HumanMessagePromptTemplate(prompt=PromptTemplate(input_variables=['context', 'question'], input_types={}, partial_variables={}, template='Answer the question based only on the following context:\\n    {context}\\n\\n    Question: {question}\\n    '), additional_kwargs={})]\n"
     ]
    },
    {
     "data": {
      "text/plain": [
       "{'messages': [\"Tell me about India's Industrial Growth\",\n",
       "  'India',\n",
       "  \"According to the provided context, India's industrial growth has outpaced expectations.\"]}"
      ]
     },
     "execution_count": 39,
     "metadata": {},
     "output_type": "execute_result"
    }
   ],
   "source": [
    "app5.invoke({\"messages\":[\"Tell me about India's Industrial Growth\"]})"
   ]
  },
  {
   "cell_type": "code",
   "execution_count": 40,
   "id": "103b133e",
   "metadata": {},
   "outputs": [
    {
     "name": "stdout",
     "output_type": "stream",
     "text": [
      "Tell me about India's Industrial Growth\n",
      "Topic='India' Reasoning=\"Query contains keywords related to India's Industrial Growth\"\n",
      "-> Router ->\n",
      "India\n",
      "Output from node 'agent':\n",
      "----------------------------\n",
      "{'messages': ['India']}\n",
      "\n",
      "----------------------------\n",
      "\n",
      "-> Calling RAG ->\n",
      "Tell me about India's Industrial Growth\n",
      "input_variables=['context', 'question'] input_types={} partial_variables={} messages=[HumanMessagePromptTemplate(prompt=PromptTemplate(input_variables=['context', 'question'], input_types={}, partial_variables={}, template='Answer the question based only on the following context:\\n    {context}\\n\\n    Question: {question}\\n    '), additional_kwargs={})]\n",
      "Output from node 'RAG':\n",
      "----------------------------\n",
      "{'messages': [\"According to the provided context, India's industrial growth has outpaced expectations, raising hopes that the economy will avoid a [something].\"]}\n",
      "\n",
      "----------------------------\n",
      "\n"
     ]
    }
   ],
   "source": [
    "input = {\"messages\":[\"Tell me about India's Industrial Growth\"]}\n",
    "for output in app5.stream(input):\n",
    "    for key, value in output.items():\n",
    "        print(f\"Output from node '{key}':\")\n",
    "        print(\"----------------------------\")\n",
    "        print(value)\n",
    "        print(\"\\n----------------------------\\n\")"
   ]
  },
  {
   "cell_type": "code",
   "execution_count": 44,
   "id": "cb513242",
   "metadata": {},
   "outputs": [
    {
     "name": "stdout",
     "output_type": "stream",
     "text": [
      "Tell me about President of USA\n",
      "Topic='Not Related' Reasoning='The query is about the President of USA which is not related to India'\n",
      "-> Router ->\n",
      "Not Related\n",
      "Output from node 'agent':\n",
      "----------------------------\n",
      "{'messages': ['Not Related']}\n",
      "\n",
      "----------------------------\n",
      "\n",
      "-> Calling LLM ->\n",
      "Output from node 'LLM':\n",
      "----------------------------\n",
      "{'messages': [\"A great topic!\\n\\nAs of now, the President of the United States is Joe Biden. He is the 46th President of the United States, serving since January 20, 2021. Prior to becoming President, Biden served as the 47th Vice President of the United States from 2009 to 2017, under the administration of President Barack Obama.\\n\\nBefore entering politics, Biden earned a Bachelor's degree in English from the University of Delaware and a Juris Doctor (J.D.) from Syracuse University College of Law. He began his political career in the Delaware State Senate, serving from 1973 to 1979, and then represented Delaware in the United States Senate from 1973 to 2009.\\n\\nAs President, Joe Biden has focused on a range of issues, including:\\n\\n1. COVID-19 pandemic response: He has implemented measures to combat the pandemic, including vaccine distribution, mask mandates, and economic stimulus packages.\\n2. Economy: He has signed legislation aimed at stimulating economic growth, including the American Rescue Plan Act and the Bipartisan Infrastructure Law.\\n3. Climate change: He has re-entered the United States into the Paris Climate Agreement and has set ambitious goals for reducing greenhouse gas emissions.\\n4. Healthcare: He has worked to expand access to healthcare, including protections for pre-existing conditions and Medicaid expansion.\\n5. Immigration: He has taken steps to address the crisis at the southern border, including increasing funding for border security and implementing a new asylum system.\\n\\nThroughout his presidency, Biden has faced numerous challenges, including ongoing crises in Ukraine, North Korea, and the Middle East, as well as domestic issues like police reform, racial justice, and gun control.\\n\\nNow, would you like to know more about a specific aspect of President Biden's presidency or policies?\"]}\n",
      "\n",
      "----------------------------\n",
      "\n"
     ]
    }
   ],
   "source": [
    "input = {\"messages\":[\"Tell me about President of USA\"]}\n",
    "for output in app5.stream(input):\n",
    "    for key, value in output.items():\n",
    "        print(f\"Output from node '{key}':\")\n",
    "        print(\"----------------------------\")\n",
    "        print(value)\n",
    "        print(\"\\n----------------------------\\n\")"
   ]
  },
  {
   "cell_type": "code",
   "execution_count": null,
   "id": "e4060d8e",
   "metadata": {},
   "outputs": [],
   "source": []
  }
 ],
 "metadata": {
  "kernelspec": {
   "display_name": "venv",
   "language": "python",
   "name": "python3"
  },
  "language_info": {
   "codemirror_mode": {
    "name": "ipython",
    "version": 3
   },
   "file_extension": ".py",
   "mimetype": "text/x-python",
   "name": "python",
   "nbconvert_exporter": "python",
   "pygments_lexer": "ipython3",
   "version": "3.13.1"
  }
 },
 "nbformat": 4,
 "nbformat_minor": 5
}
