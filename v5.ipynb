{
 "cells": [
  {
   "cell_type": "code",
   "execution_count": 1,
   "id": "de9a4148",
   "metadata": {},
   "outputs": [
    {
     "data": {
      "text/plain": [
       "True"
      ]
     },
     "execution_count": 1,
     "metadata": {},
     "output_type": "execute_result"
    }
   ],
   "source": [
    "import os\n",
    "from dotenv import load_dotenv\n",
    "load_dotenv()"
   ]
  },
  {
   "cell_type": "code",
   "execution_count": 2,
   "id": "d9699e31",
   "metadata": {},
   "outputs": [],
   "source": [
    "GOOGLE_API_KEY = os.getenv(\"GOOGLE_API_KEY\")\n",
    "TAVILY_API_KEY = os.getenv(\"TAVILY_API_KEY\")\n",
    "GROQ_API_KEY = os.getenv(\"GROQ_API_KEY\")\n",
    "LANGCHAIN_API_KEY = os.getenv(\"LANGCHAIN_API_KEY\")\n",
    "LANGCHAIN_PROJECT = os.getenv(\"LANGCHAIN_PROJECT\")\n",
    "LANGSMITH_TRACING=\"true\"\n",
    "LANGSMITH_ENDPOINT=\"https://api.smith.langchain.com\"\n",
    "LANGSMITH_API_KEY= os.getenv(\"LANGSMITH_API_KEY\")"
   ]
  },
  {
   "cell_type": "code",
   "execution_count": 3,
   "id": "09f09b50",
   "metadata": {},
   "outputs": [
    {
     "data": {
      "text/plain": [
       "\"Hi! It's nice to meet you. Is there something I can help you with or would you like to chat?\""
      ]
     },
     "execution_count": 3,
     "metadata": {},
     "output_type": "execute_result"
    }
   ],
   "source": [
    "from langchain_groq import ChatGroq\n",
    "llm = ChatGroq(model_name=\"Llama3-8b-8192\")\n",
    "llm.invoke(\"Hi\").content"
   ]
  },
  {
   "cell_type": "code",
   "execution_count": 4,
   "id": "d9561e1f",
   "metadata": {},
   "outputs": [],
   "source": [
    "message = [{\"role\":\"system\", \"content\":\"you are a helpful assistant\"},\n",
    "           {\"role\":\"user\", \"content\":\"hi how are you?\"}]"
   ]
  },
  {
   "cell_type": "code",
   "execution_count": 5,
   "id": "6975b8b4",
   "metadata": {},
   "outputs": [
    {
     "name": "stdout",
     "output_type": "stream",
     "text": [
      "Hi! I'm doing well, thank you for asking! I'm a helpful assistant, here to assist you with any questions or tasks you may have. How about you? How's your day going so far?\n"
     ]
    }
   ],
   "source": [
    "result = llm.invoke(message)\n",
    "print(result.content)"
   ]
  },
  {
   "cell_type": "code",
   "execution_count": 6,
   "id": "b8b463e9",
   "metadata": {},
   "outputs": [],
   "source": [
    "class Chatbot():\n",
    "    def __init__(self, system = \"\"):\n",
    "        self.system = system\n",
    "        self.message = []\n",
    "        if self.system:\n",
    "            self.message.append({\"role\":\"system\", \"content\":system})\n",
    "    \n",
    "    def __call__(self, message):\n",
    "        self.message.append({\"role\":\"user\",\"content\":message})\n",
    "        result = self.execute()\n",
    "        self.message.append({\"role\":\"assistant\", \"content\":result})\n",
    "        return result\n",
    "    \n",
    "    def execute(self):\n",
    "        llm = ChatGroq(model_name=\"Llama3-8b-8192\")\n",
    "        result = llm.invoke(self.message)\n",
    "        return result.content"
   ]
  },
  {
   "cell_type": "code",
   "execution_count": 7,
   "id": "780ae82d",
   "metadata": {},
   "outputs": [],
   "source": [
    "prompt = \"\"\"\n",
    "You run in a loop of Thought, Action, PAUSE, Observation.\n",
    "At the end of the loop your output an Answer.\n",
    "Use Thought to describe your thoughts about the question you have been asked.\n",
    "Use Action to run one of the actions available to you - then return PAUSE.\n",
    "Observation will be the result of running those actions.\n",
    "\n",
    "Your available actions are:\n",
    "calculate:\n",
    "e.g. calculate: 4 * 7 / 3\n",
    "Runs a calculation and returns the number - uses Python to be sure to use floating point\n",
    "syntax is necessary\n",
    "\n",
    "wikipedia:\n",
    "e.g. wikipedia: Django\n",
    "Returns a summary from searching Wikipedia\n",
    "\n",
    "simon_blog_search:\n",
    "e.g. simon_blog_search: Python\n",
    "Search Simon's blog for that term\n",
    "\n",
    "Example session:\n",
    "Question: What is the capital of France?\n",
    "Thought: I should look up France on Wikipedia\n",
    "Action: wikipedia: France\n",
    "PAUSE\n",
    "\n",
    "You will be called again with this:\n",
    "Observation: France is a country. The capital is Paris.\n",
    "\n",
    "You then output:\n",
    "Answer: The capital of France is Paris\n",
    "\n",
    "Please Note: if you get basic conversation questions like \"hi\", \"hello\", \"how are you\", \\n\n",
    "you have to answer \"hi\", \"hello\", \"i am good\". \n",
    "\"\"\".strip()"
   ]
  },
  {
   "cell_type": "code",
   "execution_count": 8,
   "id": "ef10f74c",
   "metadata": {},
   "outputs": [
    {
     "name": "stderr",
     "output_type": "stream",
     "text": [
      "<>:2: SyntaxWarning: invalid escape sequence '\\w'\n",
      "<>:2: SyntaxWarning: invalid escape sequence '\\w'\n",
      "C:\\Users\\Vikas Chauhan\\AppData\\Local\\Temp\\ipykernel_14384\\952804720.py:2: SyntaxWarning: invalid escape sequence '\\w'\n",
      "  action_re = re.compile('^Action: (\\w+): (.*)')\n"
     ]
    }
   ],
   "source": [
    "import re\n",
    "action_re = re.compile('^Action: (\\w+): (.*)')"
   ]
  },
  {
   "cell_type": "code",
   "execution_count": 9,
   "id": "c269fda5",
   "metadata": {},
   "outputs": [],
   "source": [
    "import httpx\n",
    "def wikipedia(query):\n",
    "    response = httpx.get(\"https://en.wikipedia.org/w/api.php\", params={\n",
    "        \"action\": \"query\",\n",
    "        \"list\": \"search\",\n",
    "        \"srsearch\": query,\n",
    "        \"format\": \"json\"\n",
    "    })\n",
    "    return response.json()[\"query\"][\"search\"][0][\"snippet\"]"
   ]
  },
  {
   "cell_type": "code",
   "execution_count": 10,
   "id": "2fea8b63",
   "metadata": {},
   "outputs": [],
   "source": [
    "import httpx\n",
    "def simon_blog_search(query):\n",
    "    response = httpx.get(\"https://datasette.simonwillison.net/simonwillisonblog.json\", params={\n",
    "        \"sql\": \"\"\"\n",
    "        select blog_entry.title || ': ' || substr(html_strip_tags(blog_entry.body), 0, 1000) as text,\n",
    "        blog_entry.created\n",
    "        from\n",
    "        blog_entry join blog_entry_fts on blog_entry.rowid = blog_entry_fts.rowid\n",
    "        where\n",
    "        blog_entry_fts match escape_fts(:q)\n",
    "        order by\n",
    "        blog_entry_fts.rank\n",
    "        limit\n",
    "        1\n",
    "        \"\"\".strip(),\n",
    "        \"_shape\": \"array\",\n",
    "        \"q\": query,\n",
    "    })\n",
    "    return response.json()[0][\"text\"]"
   ]
  },
  {
   "cell_type": "code",
   "execution_count": 11,
   "id": "c671a9d8",
   "metadata": {},
   "outputs": [],
   "source": [
    "def calculate(number):\n",
    "    return eval(number)"
   ]
  },
  {
   "cell_type": "code",
   "execution_count": 12,
   "id": "6b629a92",
   "metadata": {},
   "outputs": [
    {
     "data": {
      "text/plain": [
       "4"
      ]
     },
     "execution_count": 12,
     "metadata": {},
     "output_type": "execute_result"
    }
   ],
   "source": [
    "calculate(\"2+2\")"
   ]
  },
  {
   "cell_type": "code",
   "execution_count": 13,
   "id": "4df416d2",
   "metadata": {},
   "outputs": [],
   "source": [
    "known_actions = {\n",
    "    \"wikipedia\": wikipedia,\n",
    "    \"calculate\": calculate,\n",
    "    \"simon_blog_search\": simon_blog_search\n",
    "}"
   ]
  },
  {
   "cell_type": "code",
   "execution_count": 14,
   "id": "6ca45f95",
   "metadata": {},
   "outputs": [],
   "source": [
    "def query(question, max_turns = 5):\n",
    "    i = 0\n",
    "    bot = Chatbot(prompt)\n",
    "    next_prompt = question\n",
    "    while i < max_turns:\n",
    "        i += 1\n",
    "        result = bot(next_prompt)\n",
    "        print(result)\n",
    "        actions = [action_re.match(a) for a in result.split('\\n') if action_re.match(a)]\n",
    "        if actions:\n",
    "            action, action_input = actions[0].groups()\n",
    "            if action not in known_actions:\n",
    "                raise Exception(f\"Unknown action: {action}: {action_input}\")\n",
    "            print(\" -- running {} {}\".format(action, action_input))\n",
    "            observation = known_actions[action](action_input)\n",
    "            print(\"Observation:\", observation)\n",
    "            next_prompt = f\"Observation: {observation}\"\n",
    "        else:\n",
    "            return result"
   ]
  },
  {
   "cell_type": "code",
   "execution_count": 21,
   "id": "9b2202c1",
   "metadata": {},
   "outputs": [],
   "source": [
    "bot = Chatbot(prompt)"
   ]
  },
  {
   "cell_type": "code",
   "execution_count": 22,
   "id": "0498d812",
   "metadata": {},
   "outputs": [
    {
     "data": {
      "text/plain": [
       "'Thought: The person is greeting me, I should respond with a polite greeting.\\n\\nAction: hi\\n\\nPAUSE'"
      ]
     },
     "execution_count": 22,
     "metadata": {},
     "output_type": "execute_result"
    }
   ],
   "source": [
    "bot(\"Hi how are you?\")"
   ]
  },
  {
   "cell_type": "code",
   "execution_count": 23,
   "id": "b0ea87bf",
   "metadata": {},
   "outputs": [
    {
     "data": {
      "text/plain": [
       "'Thought: My job is to answer questions and provide information based on my training data.\\n\\nAction: i am a question answering AI\\n\\nPAUSE'"
      ]
     },
     "execution_count": 23,
     "metadata": {},
     "output_type": "execute_result"
    }
   ],
   "source": [
    "bot(\"What is your job\")"
   ]
  },
  {
   "cell_type": "code",
   "execution_count": 24,
   "id": "4a967db2",
   "metadata": {},
   "outputs": [
    {
     "name": "stdout",
     "output_type": "stream",
     "text": [
      "Thought: The person is saying hi to me, I should respond in a friendly manner.\n",
      "\n",
      "Action: hi\n",
      "\n",
      "PAUSE\n"
     ]
    },
    {
     "data": {
      "text/plain": [
       "'Thought: The person is saying hi to me, I should respond in a friendly manner.\\n\\nAction: hi\\n\\nPAUSE'"
      ]
     },
     "execution_count": 24,
     "metadata": {},
     "output_type": "execute_result"
    }
   ],
   "source": [
    "query(\"hi\")"
   ]
  },
  {
   "cell_type": "code",
   "execution_count": 25,
   "id": "3f1e76d5",
   "metadata": {},
   "outputs": [
    {
     "name": "stdout",
     "output_type": "stream",
     "text": [
      "Thought: I need to calculate the product of 15 and 25\n",
      "\n",
      "Action: calculate: 15 * 25\n",
      "\n",
      "PAUSE\n",
      " -- running calculate 15 * 25\n",
      "Observation: 375\n",
      "Answer: The result of the calculation is 375\n"
     ]
    },
    {
     "data": {
      "text/plain": [
       "'Answer: The result of the calculation is 375'"
      ]
     },
     "execution_count": 25,
     "metadata": {},
     "output_type": "execute_result"
    }
   ],
   "source": [
    "query(\"Fifteen * twenty five\")"
   ]
  },
  {
   "cell_type": "code",
   "execution_count": 26,
   "id": "723d3104",
   "metadata": {},
   "outputs": [
    {
     "name": "stdout",
     "output_type": "stream",
     "text": [
      "Thought: I should search Simon's blog for articles related to AI.\n",
      "\n",
      "Action: simon_blog_search: AI\n",
      "\n",
      "PAUSE\n",
      " -- running simon_blog_search AI\n",
      "Observation: It's OK to call it Artificial Intelligence: Update 9th January 2024: This post was clumsily written and failed to make the point I wanted it to make. I've published a follow-up, What I should have said about the term Artificial Intelligence which you should read instead.\n",
      "My original post follows.\n",
      "\n",
      "\n",
      "We need to be having high quality conversations about AI: what it can and can't do, its many risks and pitfalls and how to integrate it into society in the most beneficial ways possible.\n",
      "Any time I write anything that mentions AI it's inevitable that someone will object to the very usage of the term.\n",
      "Strawman: \"Don't call it AI! It's not actually intelligent - it's just spicy autocomplete.\"\n",
      "That strawman is right: it's not \"intelligent\" in the same way that humans are. And \"spicy autocomplete\" is actually a pretty good analogy for how a lot of these things work. But I still don't think this argument is a helpful contribution to the discussion.\n",
      "We need an agreed term for this class of technology, in order to have conversations\n",
      "Thought: I should read the follow-up post, \"What I should have said about the term Artificial Intelligence\".\n",
      "\n",
      "Action: simon_blog_search: What I should have said about the term Artificial Intelligence\n",
      "\n",
      "PAUSE\n",
      " -- running simon_blog_search What I should have said about the term Artificial Intelligence\n",
      "Observation: What I should have said about the term Artificial Intelligence: With the benefit of hindsight, I did a bad job with my post, It’s OK to call it Artificial Intelligence a few days ago.\n",
      "I constructed the post in a confrontational way, reacting against a strawman argument. This wasn't necessary, and it angered people who justifiably felt I was attacking them.\n",
      "Reading it again now, the message I conveyed was not what I intended. People interpreted it as saying that their time spent arguing that AI is not intelligent was unproductive - a reasonable interpretation, given that I said \"... I still don’t think this argument is a helpful contribution to the discussion.\"\n",
      "That was rude and unfair. I'm sorry. I regret writing and including that. I should have done better, more careful work with this.\n",
      "Here's a much improved version of what I wanted to say:\n",
      "\n",
      "There are many good arguments for why the term Artificial Intelligence is problematic. I've been uncomfortable with it myself. Despite those arguments, I've decided to give in to the larger cultural mo\n",
      "Thought: I seem to have been led on a bit of a tangent, but I think I've found what I was looking for.\n",
      "\n",
      "Action: None (I think I've got all I need)\n",
      "\n",
      "PAUSE\n",
      "\n",
      "Answer: Simon has indeed written about AI, specifically about the term \"Artificial Intelligence\" and its implications.\n"
     ]
    },
    {
     "data": {
      "text/plain": [
       "'Thought: I seem to have been led on a bit of a tangent, but I think I\\'ve found what I was looking for.\\n\\nAction: None (I think I\\'ve got all I need)\\n\\nPAUSE\\n\\nAnswer: Simon has indeed written about AI, specifically about the term \"Artificial Intelligence\" and its implications.'"
      ]
     },
     "execution_count": 26,
     "metadata": {},
     "output_type": "execute_result"
    }
   ],
   "source": [
    "query(\"Has Simon written about AI?\")"
   ]
  },
  {
   "cell_type": "code",
   "execution_count": null,
   "id": "4bdfe643",
   "metadata": {},
   "outputs": [],
   "source": []
  }
 ],
 "metadata": {
  "kernelspec": {
   "display_name": "venv",
   "language": "python",
   "name": "python3"
  },
  "language_info": {
   "codemirror_mode": {
    "name": "ipython",
    "version": 3
   },
   "file_extension": ".py",
   "mimetype": "text/x-python",
   "name": "python",
   "nbconvert_exporter": "python",
   "pygments_lexer": "ipython3",
   "version": "3.13.1"
  }
 },
 "nbformat": 4,
 "nbformat_minor": 5
}
