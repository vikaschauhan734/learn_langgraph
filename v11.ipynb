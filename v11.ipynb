{
 "cells": [
  {
   "cell_type": "code",
   "execution_count": 1,
   "id": "b020d74e",
   "metadata": {},
   "outputs": [
    {
     "data": {
      "text/plain": [
       "True"
      ]
     },
     "execution_count": 1,
     "metadata": {},
     "output_type": "execute_result"
    }
   ],
   "source": [
    "import os\n",
    "from dotenv import load_dotenv\n",
    "load_dotenv()"
   ]
  },
  {
   "cell_type": "code",
   "execution_count": 2,
   "id": "b99cb112",
   "metadata": {},
   "outputs": [],
   "source": [
    "GOOGLE_API_KEY = os.getenv(\"GOOGLE_API_KEY\")\n",
    "TAVILY_API_KEY = os.getenv(\"TAVILY_API_KEY\")\n",
    "GROQ_API_KEY = os.getenv(\"GROQ_API_KEY\")\n",
    "LANGCHAIN_API_KEY = os.getenv(\"LANGCHAIN_API_KEY\")\n",
    "LANGCHAIN_PROJECT = os.getenv(\"LANGCHAIN_PROJECT\")\n",
    "LANGSMITH_TRACING=\"true\"\n",
    "LANGSMITH_ENDPOINT=\"https://api.smith.langchain.com\"\n",
    "LANGSMITH_API_KEY= os.getenv(\"LANGSMITH_API_KEY\")"
   ]
  },
  {
   "cell_type": "code",
   "execution_count": 3,
   "id": "bf431bda",
   "metadata": {},
   "outputs": [],
   "source": [
    "from langchain_groq import ChatGroq\n",
    "llm = ChatGroq(model_name=\"Gemma2-9b-It\")"
   ]
  },
  {
   "cell_type": "code",
   "execution_count": 4,
   "id": "4fffa789",
   "metadata": {},
   "outputs": [],
   "source": [
    "from langgraph.graph import StateGraph, MessagesState, START, END\n",
    "from langchain_core.messages import HumanMessage, SystemMessage\n",
    "from langchain_community.tools import DuckDuckGoSearchRun\n",
    "from langgraph.prebuilt import tools_condition, ToolNode\n",
    "from IPython.display import Image, display\n",
    "from typing import Annotated, TypedDict\n",
    "import operator\n",
    "from langchain_core.messages import AnyMessage\n",
    "from langgraph.graph.message import add_messages"
   ]
  },
  {
   "cell_type": "code",
   "execution_count": 5,
   "id": "2599f0a6",
   "metadata": {},
   "outputs": [],
   "source": [
    "def multiply(a: int, b:int) -> int:\n",
    "    \"\"\"\n",
    "    Multiply a and b.\n",
    "    \n",
    "    Args:\n",
    "        a: first int\n",
    "        b: second int\n",
    "    \"\"\"\n",
    "    return a * b"
   ]
  },
  {
   "cell_type": "code",
   "execution_count": 6,
   "id": "43adb84e",
   "metadata": {},
   "outputs": [],
   "source": [
    "def add(a: int, b: int) -> int:\n",
    "    \"\"\"Adds a and b.\n",
    "    \n",
    "    Args:\n",
    "        a: first int\n",
    "        b: second int\n",
    "    \"\"\"\n",
    "    return a + b"
   ]
  },
  {
   "cell_type": "code",
   "execution_count": 7,
   "id": "194d1b61",
   "metadata": {},
   "outputs": [],
   "source": [
    "def divide(a: int, b: int) -> float:\n",
    "    \"\"\"Divide a and b.\n",
    "    \n",
    "    Args: \n",
    "        a: first int\n",
    "        b: second int\n",
    "    \"\"\"\n",
    "    return a / b"
   ]
  },
  {
   "cell_type": "code",
   "execution_count": 8,
   "id": "b6779525",
   "metadata": {},
   "outputs": [],
   "source": [
    "search = DuckDuckGoSearchRun()"
   ]
  },
  {
   "cell_type": "code",
   "execution_count": 12,
   "id": "4e0c4648",
   "metadata": {},
   "outputs": [
    {
     "data": {
      "text/plain": [
       "'The White House, official residence of the president of the United States. The president of the United States is the head of state and head of government of the United States, [1] indirectly elected to a four-year term via the Electoral College. [2] Under the U.S. Constitution, the officeholder leads the executive branch of the federal government and is the commander-in-chief of the United ... The president of the United States is the: U.S. head of state; Chief executive of the federal government; Commander-in-Chief of the armed forces; Current president. The 47th and current president of the United States is Donald John Trump. He was sworn into office on January 20, 2025. Former U.S. presidents. The United States has had 46 former U ... Many suggested the system often behaves as though it\\'s updated, until a stray comment about the current president—or the day\\'s date—throws the illusion off. \"It felt like the ultimate ... WASHINGTON − Donald Trump was sworn in Monday as the 47th president of the United States, returning to the White House after overcoming four criminal indictments and two assassination attempts ... Donald Trump has officially become the 47th president of the United States. In a special ceremony called an inauguration , President Trump took over from Joe Biden as America\\'s new leader.'"
      ]
     },
     "execution_count": 12,
     "metadata": {},
     "output_type": "execute_result"
    }
   ],
   "source": [
    "search.invoke(\"Who is the current president of USA?\")"
   ]
  },
  {
   "cell_type": "code",
   "execution_count": 9,
   "id": "24074f96",
   "metadata": {},
   "outputs": [],
   "source": [
    "tools = [add, multiply, divide, search]"
   ]
  },
  {
   "cell_type": "code",
   "execution_count": 10,
   "id": "22704720",
   "metadata": {},
   "outputs": [],
   "source": [
    "llm_with_tools = llm.bind_tools(tools)"
   ]
  },
  {
   "cell_type": "code",
   "execution_count": 11,
   "id": "9b9d2b4f",
   "metadata": {},
   "outputs": [],
   "source": [
    "# System Prompt\n",
    "sys_msg = SystemMessage(content=\"You are a helpful assistant tasked with using search and performing arithematic operations\")"
   ]
  },
  {
   "cell_type": "code",
   "execution_count": 12,
   "id": "1e8a556c",
   "metadata": {},
   "outputs": [],
   "source": [
    "def reasoner(state: MessagesState):\n",
    "    return {\"messages\": [llm_with_tools.invoke([sys_msg] + state['messages'])]}"
   ]
  },
  {
   "cell_type": "code",
   "execution_count": 13,
   "id": "5c35add1",
   "metadata": {},
   "outputs": [],
   "source": [
    "workflow = StateGraph(MessagesState)\n",
    "workflow.add_node(\"reasoner\", reasoner)\n",
    "workflow.add_node(\"tools\", ToolNode(tools))\n",
    "workflow.add_edge(START, \"reasoner\")\n",
    "workflow.add_conditional_edges(\"reasoner\", tools_condition)\n",
    "workflow.add_edge(\"tools\", \"reasoner\")\n",
    "react_graph = workflow.compile()"
   ]
  },
  {
   "cell_type": "code",
   "execution_count": 14,
   "id": "10f8604d",
   "metadata": {},
   "outputs": [
    {
     "data": {
      "image/png": "[encoded data removed]",
      "text/plain": [
       "<IPython.core.display.Image object>"
      ]
     },
     "metadata": {},
     "output_type": "display_data"
    }
   ],
   "source": [
    "display(Image(react_graph.get_graph().draw_mermaid_png()))"
   ]
  },
  {
   "cell_type": "code",
   "execution_count": 19,
   "id": "2564cb48",
   "metadata": {},
   "outputs": [],
   "source": [
    "messages = [HumanMessage(content=\"What is the age of Elon Mask?\")]\n",
    "result = react_graph.invoke({\"messages\":messages})"
   ]
  },
  {
   "cell_type": "code",
   "execution_count": 21,
   "id": "4da431b9",
   "metadata": {},
   "outputs": [
    {
     "name": "stdout",
     "output_type": "stream",
     "text": [
      "================================\u001b[1m Human Message \u001b[0m=================================\n",
      "\n",
      "What is the age of Elon Mask?\n",
      "==================================\u001b[1m Ai Message \u001b[0m==================================\n",
      "Tool Calls:\n",
      "  duckduckgo_search (call_0q9r)\n",
      " Call ID: call_0q9r\n",
      "  Args:\n",
      "    query: age of elon musk\n",
      "=================================\u001b[1m Tool Message \u001b[0m=================================\n",
      "Name: duckduckgo_search\n",
      "\n",
      "Error: UnboundLocalError(\"cannot access local variable 'results' where it is not associated with a value\")\n",
      " Please fix your mistakes.\n",
      "==================================\u001b[1m Ai Message \u001b[0m==================================\n",
      "Tool Calls:\n",
      "  duckduckgo_search (call_ppx9)\n",
      " Call ID: call_ppx9\n",
      "  Args:\n",
      "    query: age of elon musk\n",
      "=================================\u001b[1m Tool Message \u001b[0m=================================\n",
      "Name: duckduckgo_search\n",
      "\n",
      "Error: UnboundLocalError(\"cannot access local variable 'results' where it is not associated with a value\")\n",
      " Please fix your mistakes.\n",
      "==================================\u001b[1m Ai Message \u001b[0m==================================\n",
      "Tool Calls:\n",
      "  duckduckgo_search (call_5btw)\n",
      " Call ID: call_5btw\n",
      "  Args:\n",
      "    query: elon musk age\n",
      "=================================\u001b[1m Tool Message \u001b[0m=================================\n",
      "Name: duckduckgo_search\n",
      "\n",
      "Error: UnboundLocalError(\"cannot access local variable 'results' where it is not associated with a value\")\n",
      " Please fix your mistakes.\n",
      "==================================\u001b[1m Ai Message \u001b[0m==================================\n",
      "Tool Calls:\n",
      "  duckduckgo_search (call_rjnv)\n",
      " Call ID: call_rjnv\n",
      "  Args:\n",
      "    query: how old is elon musk\n",
      "=================================\u001b[1m Tool Message \u001b[0m=================================\n",
      "Name: duckduckgo_search\n",
      "\n",
      "Error: UnboundLocalError(\"cannot access local variable 'results' where it is not associated with a value\")\n",
      " Please fix your mistakes.\n",
      "==================================\u001b[1m Ai Message \u001b[0m==================================\n",
      "Tool Calls:\n",
      "  duckduckgo_search (call_m68n)\n",
      " Call ID: call_m68n\n",
      "  Args:\n",
      "    query: elon musk age\n",
      "=================================\u001b[1m Tool Message \u001b[0m=================================\n",
      "Name: duckduckgo_search\n",
      "\n",
      "Error: UnboundLocalError(\"cannot access local variable 'results' where it is not associated with a value\")\n",
      " Please fix your mistakes.\n",
      "==================================\u001b[1m Ai Message \u001b[0m==================================\n",
      "Tool Calls:\n",
      "  duckduckgo_search (call_kvrc)\n",
      " Call ID: call_kvrc\n",
      "  Args:\n",
      "    query: what is elon musk's age\n",
      "=================================\u001b[1m Tool Message \u001b[0m=================================\n",
      "Name: duckduckgo_search\n",
      "\n",
      "Error: UnboundLocalError(\"cannot access local variable 'results' where it is not associated with a value\")\n",
      " Please fix your mistakes.\n",
      "==================================\u001b[1m Ai Message \u001b[0m==================================\n",
      "Tool Calls:\n",
      "  duckduckgo_search (call_r6j1)\n",
      " Call ID: call_r6j1\n",
      "  Args:\n",
      "    query: elon musk age\n",
      "=================================\u001b[1m Tool Message \u001b[0m=================================\n",
      "Name: duckduckgo_search\n",
      "\n",
      "Error: UnboundLocalError(\"cannot access local variable 'results' where it is not associated with a value\")\n",
      " Please fix your mistakes.\n",
      "==================================\u001b[1m Ai Message \u001b[0m==================================\n",
      "Tool Calls:\n",
      "  duckduckgo_search (call_1seg)\n",
      " Call ID: call_1seg\n",
      "  Args:\n",
      "    query: how old is elon musk today\n",
      "=================================\u001b[1m Tool Message \u001b[0m=================================\n",
      "Name: duckduckgo_search\n",
      "\n",
      "Error: UnboundLocalError(\"cannot access local variable 'results' where it is not associated with a value\")\n",
      " Please fix your mistakes.\n",
      "==================================\u001b[1m Ai Message \u001b[0m==================================\n",
      "Tool Calls:\n",
      "  duckduckgo_search (call_1321)\n",
      " Call ID: call_1321\n",
      "  Args:\n",
      "    query: elon musk birthdate\n",
      "=================================\u001b[1m Tool Message \u001b[0m=================================\n",
      "Name: duckduckgo_search\n",
      "\n",
      "Error: UnboundLocalError(\"cannot access local variable 'results' where it is not associated with a value\")\n",
      " Please fix your mistakes.\n",
      "==================================\u001b[1m Ai Message \u001b[0m==================================\n",
      "Tool Calls:\n",
      "  duckduckgo_search (call_zsd9)\n",
      " Call ID: call_zsd9\n",
      "  Args:\n",
      "    query: when was elon musk born\n",
      "=================================\u001b[1m Tool Message \u001b[0m=================================\n",
      "Name: duckduckgo_search\n",
      "\n",
      "Error: UnboundLocalError(\"cannot access local variable 'results' where it is not associated with a value\")\n",
      " Please fix your mistakes.\n",
      "==================================\u001b[1m Ai Message \u001b[0m==================================\n",
      "Tool Calls:\n",
      "  duckduckgo_search (call_2mr5)\n",
      " Call ID: call_2mr5\n",
      "  Args:\n",
      "    query: elon musk age in 2023\n",
      "=================================\u001b[1m Tool Message \u001b[0m=================================\n",
      "Name: duckduckgo_search\n",
      "\n",
      "Error: UnboundLocalError(\"cannot access local variable 'results' where it is not associated with a value\")\n",
      " Please fix your mistakes.\n",
      "==================================\u001b[1m Ai Message \u001b[0m==================================\n",
      "\n",
      "Elon Musk was born on June 28, 1971.\n"
     ]
    }
   ],
   "source": [
    "for m in result['messages']:\n",
    "    m.pretty_print()"
   ]
  },
  {
   "cell_type": "code",
   "execution_count": 22,
   "id": "7d03a13e",
   "metadata": {},
   "outputs": [
    {
     "data": {
      "text/plain": [
       "{'messages': [HumanMessage(content='What is the age of Elon Mask?', additional_kwargs={}, response_metadata={}, id='e35d3305-bc75-4d17-acb4-5ac66ae8e27d'),\n",
       "  AIMessage(content='', additional_kwargs={'tool_calls': [{'id': 'call_0q9r', 'function': {'arguments': '{\"query\":\"age of elon musk\"}', 'name': 'duckduckgo_search'}, 'type': 'function'}]}, response_metadata={'token_usage': {'completion_tokens': 87, 'prompt_tokens': 1413, 'total_tokens': 1500, 'completion_time': 0.158181818, 'prompt_time': 0.067328171, 'queue_time': 0.24843010799999998, 'total_time': 0.225509989}, 'model_name': 'Gemma2-9b-It', 'system_fingerprint': 'fp_10c08bf97d', 'finish_reason': 'tool_calls', 'logprobs': None}, id='run--62cc42c4-21f4-49d2-abee-aa5ff3a6a2bc-0', tool_calls=[{'name': 'duckduckgo_search', 'args': {'query': 'age of elon musk'}, 'id': 'call_0q9r', 'type': 'tool_call'}], usage_metadata={'input_tokens': 1413, 'output_tokens': 87, 'total_tokens': 1500}),\n",
       "  ToolMessage(content='Error: UnboundLocalError(\"cannot access local variable \\'results\\' where it is not associated with a value\")\\n Please fix your mistakes.', name='duckduckgo_search', id='e7b2f31f-59ee-408c-a35c-eb2fa34bea83', tool_call_id='call_0q9r', status='error'),\n",
       "  AIMessage(content='', additional_kwargs={'tool_calls': [{'id': 'call_ppx9', 'function': {'arguments': '{\"query\":\"age of elon musk\"}', 'name': 'duckduckgo_search'}, 'type': 'function'}]}, response_metadata={'token_usage': {'completion_tokens': 52, 'prompt_tokens': 1519, 'total_tokens': 1571, 'completion_time': 0.094545455, 'prompt_time': 0.08651176, 'queue_time': 0.24464509, 'total_time': 0.181057215}, 'model_name': 'Gemma2-9b-It', 'system_fingerprint': 'fp_10c08bf97d', 'finish_reason': 'tool_calls', 'logprobs': None}, id='run--708a031d-88b8-4e6f-abe4-2238df9e5de7-0', tool_calls=[{'name': 'duckduckgo_search', 'args': {'query': 'age of elon musk'}, 'id': 'call_ppx9', 'type': 'tool_call'}], usage_metadata={'input_tokens': 1519, 'output_tokens': 52, 'total_tokens': 1571}),\n",
       "  ToolMessage(content='Error: UnboundLocalError(\"cannot access local variable \\'results\\' where it is not associated with a value\")\\n Please fix your mistakes.', name='duckduckgo_search', id='45e7380e-8ed4-4dbe-bcd8-2498f1de3855', tool_call_id='call_ppx9', status='error'),\n",
       "  AIMessage(content='', additional_kwargs={'tool_calls': [{'id': 'call_5btw', 'function': {'arguments': '{\"query\":\"elon musk age\"}', 'name': 'duckduckgo_search'}, 'type': 'function'}]}, response_metadata={'token_usage': {'completion_tokens': 48, 'prompt_tokens': 1623, 'total_tokens': 1671, 'completion_time': 0.087272727, 'prompt_time': 0.093887763, 'queue_time': 0.384510237, 'total_time': 0.18116049}, 'model_name': 'Gemma2-9b-It', 'system_fingerprint': 'fp_10c08bf97d', 'finish_reason': 'tool_calls', 'logprobs': None}, id='run--11be833f-19fe-40cb-a398-32dc9552c431-0', tool_calls=[{'name': 'duckduckgo_search', 'args': {'query': 'elon musk age'}, 'id': 'call_5btw', 'type': 'tool_call'}], usage_metadata={'input_tokens': 1623, 'output_tokens': 48, 'total_tokens': 1671}),\n",
       "  ToolMessage(content='Error: UnboundLocalError(\"cannot access local variable \\'results\\' where it is not associated with a value\")\\n Please fix your mistakes.', name='duckduckgo_search', id='b666d6d5-21d7-4606-9b82-9d52e75ff94b', tool_call_id='call_5btw', status='error'),\n",
       "  AIMessage(content='', additional_kwargs={'tool_calls': [{'id': 'call_rjnv', 'function': {'arguments': '{\"query\":\"how old is elon musk\"}', 'name': 'duckduckgo_search'}, 'type': 'function'}]}, response_metadata={'token_usage': {'completion_tokens': 53, 'prompt_tokens': 1723, 'total_tokens': 1776, 'completion_time': 0.096363636, 'prompt_time': 0.098312603, 'queue_time': 0.248181806, 'total_time': 0.194676239}, 'model_name': 'Gemma2-9b-It', 'system_fingerprint': 'fp_10c08bf97d', 'finish_reason': 'tool_calls', 'logprobs': None}, id='run--9f1841fd-8707-408c-be8e-eb14b635e736-0', tool_calls=[{'name': 'duckduckgo_search', 'args': {'query': 'how old is elon musk'}, 'id': 'call_rjnv', 'type': 'tool_call'}], usage_metadata={'input_tokens': 1723, 'output_tokens': 53, 'total_tokens': 1776}),\n",
       "  ToolMessage(content='Error: UnboundLocalError(\"cannot access local variable \\'results\\' where it is not associated with a value\")\\n Please fix your mistakes.', name='duckduckgo_search', id='e18e414d-6e0b-455a-aca9-3b0ef1429845', tool_call_id='call_rjnv', status='error'),\n",
       "  AIMessage(content='', additional_kwargs={'tool_calls': [{'id': 'call_m68n', 'function': {'arguments': '{\"query\":\"elon musk age\"}', 'name': 'duckduckgo_search'}, 'type': 'function'}]}, response_metadata={'token_usage': {'completion_tokens': 48, 'prompt_tokens': 1828, 'total_tokens': 1876, 'completion_time': 0.087272727, 'prompt_time': 0.118677298, 'queue_time': 0.5257673949999999, 'total_time': 0.205950025}, 'model_name': 'Gemma2-9b-It', 'system_fingerprint': 'fp_10c08bf97d', 'finish_reason': 'tool_calls', 'logprobs': None}, id='run--384269c2-8d10-4bcc-ba3e-7eba43343eab-0', tool_calls=[{'name': 'duckduckgo_search', 'args': {'query': 'elon musk age'}, 'id': 'call_m68n', 'type': 'tool_call'}], usage_metadata={'input_tokens': 1828, 'output_tokens': 48, 'total_tokens': 1876}),\n",
       "  ToolMessage(content='Error: UnboundLocalError(\"cannot access local variable \\'results\\' where it is not associated with a value\")\\n Please fix your mistakes.', name='duckduckgo_search', id='77d66ea9-d630-42a8-b0f9-b03f5584ae8e', tool_call_id='call_m68n', status='error'),\n",
       "  AIMessage(content='', additional_kwargs={'tool_calls': [{'id': 'call_kvrc', 'function': {'arguments': '{\"query\":\"what is elon musk\\'s age\"}', 'name': 'duckduckgo_search'}, 'type': 'function'}]}, response_metadata={'token_usage': {'completion_tokens': 53, 'prompt_tokens': 1932, 'total_tokens': 1985, 'completion_time': 0.096363636, 'prompt_time': 0.110027358, 'queue_time': 0.24584118099999996, 'total_time': 0.206390994}, 'model_name': 'Gemma2-9b-It', 'system_fingerprint': 'fp_10c08bf97d', 'finish_reason': 'tool_calls', 'logprobs': None}, id='run--75ffa95e-8694-42df-8be1-c5997ee1d4a8-0', tool_calls=[{'name': 'duckduckgo_search', 'args': {'query': \"what is elon musk's age\"}, 'id': 'call_kvrc', 'type': 'tool_call'}], usage_metadata={'input_tokens': 1932, 'output_tokens': 53, 'total_tokens': 1985}),\n",
       "  ToolMessage(content='Error: UnboundLocalError(\"cannot access local variable \\'results\\' where it is not associated with a value\")\\n Please fix your mistakes.', name='duckduckgo_search', id='370bf655-935e-4048-9c25-0260d2c25284', tool_call_id='call_kvrc', status='error'),\n",
       "  AIMessage(content='', additional_kwargs={'tool_calls': [{'id': 'call_r6j1', 'function': {'arguments': '{\"query\":\"elon musk age\"}', 'name': 'duckduckgo_search'}, 'type': 'function'}]}, response_metadata={'token_usage': {'completion_tokens': 47, 'prompt_tokens': 2037, 'total_tokens': 2084, 'completion_time': 0.085454545, 'prompt_time': 0.115401205, 'queue_time': 0.249678603, 'total_time': 0.20085575}, 'model_name': 'Gemma2-9b-It', 'system_fingerprint': 'fp_10c08bf97d', 'finish_reason': 'tool_calls', 'logprobs': None}, id='run--00c5062c-dac9-451a-9648-e2ce21158d00-0', tool_calls=[{'name': 'duckduckgo_search', 'args': {'query': 'elon musk age'}, 'id': 'call_r6j1', 'type': 'tool_call'}], usage_metadata={'input_tokens': 2037, 'output_tokens': 47, 'total_tokens': 2084}),\n",
       "  ToolMessage(content='Error: UnboundLocalError(\"cannot access local variable \\'results\\' where it is not associated with a value\")\\n Please fix your mistakes.', name='duckduckgo_search', id='eaacf787-a58a-4b9b-9542-eaa2c70c46f7', tool_call_id='call_r6j1', status='error'),\n",
       "  AIMessage(content='', additional_kwargs={'tool_calls': [{'id': 'call_1seg', 'function': {'arguments': '{\"query\":\"how old is elon musk today\"}', 'name': 'duckduckgo_search'}, 'type': 'function'}]}, response_metadata={'token_usage': {'completion_tokens': 52, 'prompt_tokens': 2141, 'total_tokens': 2193, 'completion_time': 0.094545455, 'prompt_time': 0.091926757, 'queue_time': 0.24891840299999998, 'total_time': 0.186472212}, 'model_name': 'Gemma2-9b-It', 'system_fingerprint': 'fp_10c08bf97d', 'finish_reason': 'tool_calls', 'logprobs': None}, id='run--0a83bc27-8ca3-4dba-b04a-a2e71f68cbd1-0', tool_calls=[{'name': 'duckduckgo_search', 'args': {'query': 'how old is elon musk today'}, 'id': 'call_1seg', 'type': 'tool_call'}], usage_metadata={'input_tokens': 2141, 'output_tokens': 52, 'total_tokens': 2193}),\n",
       "  ToolMessage(content='Error: UnboundLocalError(\"cannot access local variable \\'results\\' where it is not associated with a value\")\\n Please fix your mistakes.', name='duckduckgo_search', id='b3e288b5-1412-4bbf-b6ae-2c8a24eaf3c2', tool_call_id='call_1seg', status='error'),\n",
       "  AIMessage(content='', additional_kwargs={'tool_calls': [{'id': 'call_1321', 'function': {'arguments': '{\"query\":\"elon musk birthdate\"}', 'name': 'duckduckgo_search'}, 'type': 'function'}]}, response_metadata={'token_usage': {'completion_tokens': 50, 'prompt_tokens': 2245, 'total_tokens': 2295, 'completion_time': 0.090909091, 'prompt_time': 0.07723262, 'queue_time': 0.24629887199999997, 'total_time': 0.168141711}, 'model_name': 'Gemma2-9b-It', 'system_fingerprint': 'fp_10c08bf97d', 'finish_reason': 'tool_calls', 'logprobs': None}, id='run--c3702424-c9b3-4733-99fa-e1e8c7728d78-0', tool_calls=[{'name': 'duckduckgo_search', 'args': {'query': 'elon musk birthdate'}, 'id': 'call_1321', 'type': 'tool_call'}], usage_metadata={'input_tokens': 2245, 'output_tokens': 50, 'total_tokens': 2295}),\n",
       "  ToolMessage(content='Error: UnboundLocalError(\"cannot access local variable \\'results\\' where it is not associated with a value\")\\n Please fix your mistakes.', name='duckduckgo_search', id='c6c43a97-9527-4cb1-926c-a048f053c450', tool_call_id='call_1321', status='error'),\n",
       "  AIMessage(content='', additional_kwargs={'tool_calls': [{'id': 'call_zsd9', 'function': {'arguments': '{\"query\":\"when was elon musk born\"}', 'name': 'duckduckgo_search'}, 'type': 'function'}]}, response_metadata={'token_usage': {'completion_tokens': 50, 'prompt_tokens': 2350, 'total_tokens': 2400, 'completion_time': 0.090909091, 'prompt_time': 0.080555123, 'queue_time': 0.250334648, 'total_time': 0.171464214}, 'model_name': 'Gemma2-9b-It', 'system_fingerprint': 'fp_10c08bf97d', 'finish_reason': 'tool_calls', 'logprobs': None}, id='run--575721d4-6fc2-4a66-bf08-5b9f4e848a42-0', tool_calls=[{'name': 'duckduckgo_search', 'args': {'query': 'when was elon musk born'}, 'id': 'call_zsd9', 'type': 'tool_call'}], usage_metadata={'input_tokens': 2350, 'output_tokens': 50, 'total_tokens': 2400}),\n",
       "  ToolMessage(content='Error: UnboundLocalError(\"cannot access local variable \\'results\\' where it is not associated with a value\")\\n Please fix your mistakes.', name='duckduckgo_search', id='009e4bac-b4ba-4635-a0df-8d2cab078e7b', tool_call_id='call_zsd9', status='error'),\n",
       "  AIMessage(content='', additional_kwargs={'tool_calls': [{'id': 'call_2mr5', 'function': {'arguments': '{\"query\":\"elon musk age in 2023\"}', 'name': 'duckduckgo_search'}, 'type': 'function'}]}, response_metadata={'token_usage': {'completion_tokens': 56, 'prompt_tokens': 2455, 'total_tokens': 2511, 'completion_time': 0.101818182, 'prompt_time': 0.09108958, 'queue_time': 0.24562947000000002, 'total_time': 0.192907762}, 'model_name': 'Gemma2-9b-It', 'system_fingerprint': 'fp_10c08bf97d', 'finish_reason': 'tool_calls', 'logprobs': None}, id='run--e4e50995-2dab-44eb-b170-276cad0b9825-0', tool_calls=[{'name': 'duckduckgo_search', 'args': {'query': 'elon musk age in 2023'}, 'id': 'call_2mr5', 'type': 'tool_call'}], usage_metadata={'input_tokens': 2455, 'output_tokens': 56, 'total_tokens': 2511}),\n",
       "  ToolMessage(content='Error: UnboundLocalError(\"cannot access local variable \\'results\\' where it is not associated with a value\")\\n Please fix your mistakes.', name='duckduckgo_search', id='6004eb1f-0b7d-4944-82f5-6e2b927c65d7', tool_call_id='call_2mr5', status='error'),\n",
       "  AIMessage(content='Elon Musk was born on June 28, 1971. \\n\\n\\n\\n', additional_kwargs={}, response_metadata={'token_usage': {'completion_tokens': 20, 'prompt_tokens': 2563, 'total_tokens': 2583, 'completion_time': 0.036363636, 'prompt_time': 0.145770719, 'queue_time': 0.25230921100000003, 'total_time': 0.182134355}, 'model_name': 'Gemma2-9b-It', 'system_fingerprint': 'fp_10c08bf97d', 'finish_reason': 'stop', 'logprobs': None}, id='run--6f1c7c19-0d45-400c-8c47-17751b035fe1-0', usage_metadata={'input_tokens': 2563, 'output_tokens': 20, 'total_tokens': 2583})]}"
      ]
     },
     "execution_count": 22,
     "metadata": {},
     "output_type": "execute_result"
    }
   ],
   "source": [
    "result"
   ]
  },
  {
   "cell_type": "code",
   "execution_count": null,
   "id": "756203ad",
   "metadata": {},
   "outputs": [],
   "source": []
  }
 ],
 "metadata": {
  "kernelspec": {
   "display_name": "venv",
   "language": "python",
   "name": "python3"
  },
  "language_info": {
   "codemirror_mode": {
    "name": "ipython",
    "version": 3
   },
   "file_extension": ".py",
   "mimetype": "text/x-python",
   "name": "python",
   "nbconvert_exporter": "python",
   "pygments_lexer": "ipython3",
   "version": "3.13.1"
  }
 },
 "nbformat": 4,
 "nbformat_minor": 5
}
