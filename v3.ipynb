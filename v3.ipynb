{
 "cells": [
  {
   "cell_type": "code",
   "execution_count": 1,
   "id": "2e64cd07",
   "metadata": {},
   "outputs": [
    {
     "data": {
      "text/plain": [
       "True"
      ]
     },
     "execution_count": 1,
     "metadata": {},
     "output_type": "execute_result"
    }
   ],
   "source": [
    "import os\n",
    "from dotenv import load_dotenv\n",
    "load_dotenv()"
   ]
  },
  {
   "cell_type": "code",
   "execution_count": 2,
   "id": "5108eb27",
   "metadata": {},
   "outputs": [],
   "source": [
    "GOOGLE_API_KEY = os.getenv(\"GOOGLE_API_KEY\")\n",
    "TAVILY_API_KEY = os.getenv(\"TAVILY_API_KEY\")\n",
    "GROQ_API_KEY = os.getenv(\"GROQ_API_KEY\")\n",
    "LANGCHAIN_API_KEY = os.getenv(\"LANGCHAIN_API_KEY\")\n",
    "LANGCHAIN_PROJECT = os.getenv(\"LANGCHAIN_PROJECT\")\n",
    "LANGSMITH_TRACING=\"true\"\n",
    "LANGSMITH_ENDPOINT=\"https://api.smith.langchain.com\"\n",
    "LANGSMITH_API_KEY= os.getenv(\"LANGSMITH_API_KEY\")"
   ]
  },
  {
   "cell_type": "code",
   "execution_count": 3,
   "id": "aef476a5",
   "metadata": {},
   "outputs": [],
   "source": [
    "from langchain_groq import ChatGroq\n",
    "llm = ChatGroq(model_name=\"Gemma2-9b-It\")"
   ]
  },
  {
   "cell_type": "code",
   "execution_count": 4,
   "id": "d0bcd0d7",
   "metadata": {},
   "outputs": [
    {
     "name": "stderr",
     "output_type": "stream",
     "text": [
      "d:\\learning\\learn_langgraph_ss\\venv\\Lib\\site-packages\\tqdm\\auto.py:21: TqdmWarning: IProgress not found. Please update jupyter and ipywidgets. See https://ipywidgets.readthedocs.io/en/stable/user_install.html\n",
      "  from .autonotebook import tqdm as notebook_tqdm\n"
     ]
    }
   ],
   "source": [
    "from langchain_huggingface import HuggingFaceEmbeddings\n",
    "embeddings = HuggingFaceEmbeddings(model_name=\"sentence-transformers/all-mpnet-base-v2\")"
   ]
  },
  {
   "cell_type": "markdown",
   "id": "e1f5d044",
   "metadata": {},
   "source": [
    "v1(Old version)"
   ]
  },
  {
   "cell_type": "code",
   "execution_count": 5,
   "id": "b3c6208d",
   "metadata": {},
   "outputs": [],
   "source": [
    "from langchain.agents import AgentType, load_tools, initialize_agent"
   ]
  },
  {
   "cell_type": "code",
   "execution_count": 6,
   "id": "f4429c3f",
   "metadata": {},
   "outputs": [],
   "source": [
    "tool = load_tools([\"wikipedia\"], llm=llm)"
   ]
  },
  {
   "cell_type": "code",
   "execution_count": 7,
   "id": "4a115707",
   "metadata": {},
   "outputs": [
    {
     "name": "stderr",
     "output_type": "stream",
     "text": [
      "C:\\Users\\Vikas Chauhan\\AppData\\Local\\Temp\\ipykernel_2556\\71792862.py:1: LangChainDeprecationWarning: LangChain agents will continue to be supported, but it is recommended for new use cases to be built with LangGraph. LangGraph offers a more flexible and full-featured framework for building agents, including support for tool-calling, persistence of state, and human-in-the-loop workflows. For details, refer to the `LangGraph documentation <https://langchain-ai.github.io/langgraph/>`_ as well as guides for `Migrating from AgentExecutor <https://python.langchain.com/docs/how_to/migrate_agent/>`_ and LangGraph's `Pre-built ReAct agent <https://langchain-ai.github.io/langgraph/how-tos/create-react-agent/>`_.\n",
      "  agent = initialize_agent(tool, llm,agent=AgentType.ZERO_SHOT_REACT_DESCRIPTION, verbose=True)\n"
     ]
    }
   ],
   "source": [
    "agent = initialize_agent(tool, llm,agent=AgentType.ZERO_SHOT_REACT_DESCRIPTION, verbose=True) "
   ]
  },
  {
   "cell_type": "code",
   "execution_count": 8,
   "id": "ec9a4999",
   "metadata": {},
   "outputs": [
    {
     "name": "stdout",
     "output_type": "stream",
     "text": [
      "\n",
      "\n",
      "\u001b[1m> Entering new AgentExecutor chain...\u001b[0m\n",
      "\u001b[32;1m\u001b[1;3mThought: I need to look up the capital of India on Wikipedia.\n",
      "Action: wikipedia\n",
      "Action Input: Capital of India\u001b[0m\n",
      "Observation: \u001b[36;1m\u001b[1;3mPage: List of capitals of India\n",
      "Summary: This is a list of locations which have served as capital cities in India. The current capital city is New Delhi, which replaced Calcutta in 1911.\n",
      "\n",
      "\n",
      "\n",
      "Page: National Capital Region (India)\n",
      "Summary: The National Capital Region (NCR; Rāṣṭrīya Rājadhānī Kṣētra) is a planning region centred upon the National Capital Territory (NCT) of Delhi in India. It encompasses Delhi and several districts surrounding it from the states of Haryana, Uttar Pradesh, and Rajasthan. The NCR and the associated National Capital Region Planning Board (NCRPB) were created in 1985 to plan the development of the region and to evolve harmonized policies for the control of land-uses and development of infrastructure in the region. Prominent cities of the NCR include Delhi, Faridabad, Ghaziabad, Gurgaon and Noida.\n",
      "The NCR is a rural-urban region, with a population of over 46,069,000 and an urbanisation level of 62.6%. As well as cities and towns, the NCR contains ecologically sensitive areas like the Aravalli ridge, forests, wildlife and bird sanctuaries. The Delhi Extended Urban Agglomeration, a part of the NCR, had an estimated GDP of $370 billion (measured in terms of GDP PPP) in 2015–16.\n",
      "Despite being a part of the NCR, the Government of India's think tank, NITI Aayog, listed the Nuh district of Haryana as the most underdeveloped compared to all of India's 739 districts.\n",
      "\n",
      "Page: Capital punishment in India\n",
      "Summary: Capital punishment in India is the highest legal penalty for crimes under the country's main substantive penal legislation, the Bharatiya Nyaya Sanhita (formerly Indian Penal Code), as well as other laws. Executions are carried out by hanging as the primary method of execution per Section 354(5) of the Criminal Code of Procedure, 1973 is \"Hanging by the neck until dead\", and is imposed only in the 'rarest of cases'.\n",
      "Currently, there are around 539 prisoners on death row in India. The most recent executions in India took place in March 2020, when four of the 2012 Delhi gang rape and murder perpetrators were executed at the Tihar Jail in Delhi.\n",
      "\n",
      "\u001b[0m\n",
      "Thought:\u001b[32;1m\u001b[1;3mThought: The capital of India is New Delhi, as stated on the Wikipedia page for \"Capital of India\". \n",
      "Final Answer: New Delhi \n",
      "\u001b[0m\n",
      "\n",
      "\u001b[1m> Finished chain.\u001b[0m\n"
     ]
    },
    {
     "data": {
      "text/plain": [
       "{'input': 'What is the capital of India?', 'output': 'New Delhi'}"
      ]
     },
     "execution_count": 8,
     "metadata": {},
     "output_type": "execute_result"
    }
   ],
   "source": [
    "agent.invoke(\"What is the capital of India?\")"
   ]
  },
  {
   "cell_type": "code",
   "execution_count": 9,
   "id": "5344de83",
   "metadata": {},
   "outputs": [],
   "source": [
    "from langchain_community.tools import DuckDuckGoSearchResults"
   ]
  },
  {
   "cell_type": "code",
   "execution_count": 10,
   "id": "632a24d8",
   "metadata": {},
   "outputs": [],
   "source": [
    "search = DuckDuckGoSearchResults()"
   ]
  },
  {
   "cell_type": "code",
   "execution_count": 11,
   "id": "d8d4b3c0",
   "metadata": {},
   "outputs": [
    {
     "data": {
      "text/plain": [
       "\"snippet: Find the latest gold rate today in India for 24 karat and 22 karat gold per gram, tola, ounce and kilogram. Compare gold prices across cities and countries, and see historical charts and trends., title: Gold Rate Today in India, 12 May 2025 - Gold Price in India, link: https://www.goldpriceindia.com/, snippet: Today's 22-carat gold prices in India dipped by ₹165 per gram on May 12, with 24-carat gold down by ₹173 compared to yesterday., title: Gold Rate Today May 12, 2025: Check latest Gold prices in Mumbai ..., link: https://www.thehindubusinessline.com/gold-rate-today/gold-price-today-in-mumbai-chennai-ahmedabad-delhi-hyderabad-bengaluru-kolkata-gold-rates-may-12-2025/article69566950.ece, snippet: India Gold Price - Stay updated with the latest real-time gold rates in Indian Rupees (INR). View current prices per gram, ounce, tola, and kilogram for 24K, 22K, 18K, and 14K gold with live updates. The most current gold price in Indian rupee 24,22,18,14,10,6 carat. SPOT GOLD 3276.39 $-0.29% (-9.45), title: India Gold Price Live - 24-hour (gold prices in Indian rupees INR), link: https://www.livepriceofgold.com/india-gold-price.html, snippet: In India, the price of gold stands at ₹9,688 per gram for 24 karat gold, ₹8,880 per gram for 22 karat gold, and ₹7,266 per gram for 18 karat gold (999 gold), according to data from Goodreturns. The optimism in the market can be attributed to the positive developments in the US-China trade negotiations., title: Gold prices: Factors driving the dip today and what to expect, link: https://www.cnbctv18.com/market/commodities/gold-prices-rates-india-factors-driving-fall-outlook-investment-19603071.htm\""
      ]
     },
     "execution_count": 11,
     "metadata": {},
     "output_type": "execute_result"
    }
   ],
   "source": [
    "search.invoke(\"Gold price in India\")"
   ]
  },
  {
   "cell_type": "code",
   "execution_count": 12,
   "id": "7c0652f5",
   "metadata": {},
   "outputs": [],
   "source": [
    "tools = [search]"
   ]
  },
  {
   "cell_type": "code",
   "execution_count": 13,
   "id": "c4f3b43d",
   "metadata": {},
   "outputs": [],
   "source": [
    "from langchain import hub\n",
    "prompt = hub.pull(\"hwchase17/openai-functions-agent\")"
   ]
  },
  {
   "cell_type": "markdown",
   "id": "fe7dc545",
   "metadata": {},
   "source": [
    "**agent_scratchpad:** The agent does not call a tool just once to get the desired answer, but has a structure that calls tools repeatedly until the desired answer is obtained. Each time you call a tool, what the previous call was like, information about the previous call, and the result are stored in this field."
   ]
  },
  {
   "cell_type": "code",
   "execution_count": 14,
   "id": "fc3b700c",
   "metadata": {},
   "outputs": [
    {
     "data": {
      "text/plain": [
       "[SystemMessagePromptTemplate(prompt=PromptTemplate(input_variables=[], input_types={}, partial_variables={}, template='You are a helpful assistant'), additional_kwargs={}),\n",
       " MessagesPlaceholder(variable_name='chat_history', optional=True),\n",
       " HumanMessagePromptTemplate(prompt=PromptTemplate(input_variables=['input'], input_types={}, partial_variables={}, template='{input}'), additional_kwargs={}),\n",
       " MessagesPlaceholder(variable_name='agent_scratchpad')]"
      ]
     },
     "execution_count": 14,
     "metadata": {},
     "output_type": "execute_result"
    }
   ],
   "source": [
    "prompt.messages"
   ]
  },
  {
   "cell_type": "code",
   "execution_count": 15,
   "id": "8b77be88",
   "metadata": {},
   "outputs": [],
   "source": [
    "from langchain.agents import create_tool_calling_agent\n",
    "agent = create_tool_calling_agent(llm, tools, prompt)"
   ]
  },
  {
   "cell_type": "code",
   "execution_count": 16,
   "id": "b4715047",
   "metadata": {},
   "outputs": [],
   "source": [
    "from langchain.agents import AgentExecutor\n",
    "agent_executor = AgentExecutor(agent=agent, tools=tools, verbose=True)"
   ]
  },
  {
   "cell_type": "code",
   "execution_count": 17,
   "id": "9131aebc",
   "metadata": {},
   "outputs": [
    {
     "name": "stdout",
     "output_type": "stream",
     "text": [
      "\n",
      "\n",
      "\u001b[1m> Entering new AgentExecutor chain...\u001b[0m\n",
      "\u001b[32;1m\u001b[1;3m\n",
      "Invoking: `duckduckgo_results_json` with `{'query': 'hello how are you'}`\n",
      "\n",
      "\n",
      "\u001b[0m\u001b[36;1m\u001b[1;3msnippet: Learn how to answer the common question \"how are you?\" in different contexts and tones. Find formal, informal, idiomatic, professional and funny responses with examples and usage., title: 50+ Ways to Respond to \"How Are You?\" in English - 7ESL, link: https://7esl.com/answer-how-are-you/, snippet: Learn different ways to express common phrases in English, such as formal, informal, idiomatic, professional and creative ways to ask \"how are you?\" See examples and usage scenarios for each way., title: 40 Other Ways to Ask \"How Are You\" in English - 7ESL, link: https://7esl.com/how-are-you/, snippet: Learn the different ways to ask and answer \"How are you?\" in English, depending on the context and the tone. Find out the meanings and nuances of common expressions like \"fine\", \"not bad\" and \"all right\"., title: 6 Ways to Ask \"How Are You?\" and 18 Ways to Answer, link: https://www.fluentu.com/blog/english/how-are-you-esl/, snippet: Diane adds, \"If there's interest in getting to know the other person better, move to \"tell me about _____\" (could be who you know in common, the place/location where you are both meeting at, or how you both know about the event/organization where you are).\". In a casual setting, it could help acknowledge someone's presence without expecting a detailed response, such as when ..., title: 201 Funny And Witty Responses To The Question \"How Are You?\", link: https://www.stylecraze.com/articles/how-to-respond-to-how-are-you/\u001b[0m\u001b[32;1m\u001b[1;3mI am an AI language model, so I don't have feelings. How are you?\u001b[0m\n",
      "\n",
      "\u001b[1m> Finished chain.\u001b[0m\n"
     ]
    },
    {
     "data": {
      "text/plain": [
       "{'input': 'hello how are you?',\n",
       " 'output': \"I am an AI language model, so I don't have feelings. How are you?\"}"
      ]
     },
     "execution_count": 17,
     "metadata": {},
     "output_type": "execute_result"
    }
   ],
   "source": [
    "agent_executor.invoke({\"input\": \"hello how are you?\"})"
   ]
  },
  {
   "cell_type": "code",
   "execution_count": 18,
   "id": "792c8d5c",
   "metadata": {},
   "outputs": [
    {
     "name": "stdout",
     "output_type": "stream",
     "text": [
      "\n",
      "\n",
      "\u001b[1m> Entering new AgentExecutor chain...\u001b[0m\n",
      "\u001b[32;1m\u001b[1;3m\n",
      "Invoking: `duckduckgo_results_json` with `{'query': 'weather in delhi'}`\n",
      "\n",
      "\n",
      "\u001b[0m\u001b[36;1m\u001b[1;3msnippet: Get today's real-time weather updates in New Delhi with hourly temperatures and a weekly forecast. Find out about New Delhi's temperature trends, rain chances, air quality (AQI), and humidity ..., title: New Delhi Weather Forecast 11 May 2025 - Times of India, link: https://timesofindia.indiatimes.com/weather/new-delhi-weather-forecast-today/110011, snippet: New Delhi, India - Current temperature and weather conditions. Detailed hourly weather forecast for today - including weather conditions, temperature, pressure, humidity, precipitation, dewpoint, wind, visibility, and UV index data., title: Weather today - New Delhi, India, link: https://www.weather-atlas.com/en/india/new-delhi, snippet: Delhi Weather: Sudden Rain And Strong Winds Bring Perfect Weekend Spin To The Capital. Delhi Metro: DMRC To Run Regular Services On May 11 As IPL Match Gets Suspended. Delhi Traffic Alert: Advisory Issued From May 10 for 15 Days - Check Roads to Avoid, Alternate Routes., title: Delhi on Rain Alert Today: IMD Predicts Thunderstorms, Maximum ..., link: https://www.timesnownews.com/delhi/delhi-on-rain-alert-today-imd-predicts-thunderstorms-maximum-temperature-to-settle-at-37-degrees-article-151608712, snippet: In its latest nowcast, the weather department said that light to moderate rainfall accompanied by light thunderstorm and lightning, with gusty winds of 30-50 kmph, is likely to occur across Delhi ..., title: Delhi weather update: IMD predicts partly cloudy sky for Monday, check ..., link: https://www.indiatvnews.com/delhi/delhi-weather-update-imd-predicts-partly-cloudy-sky-for-monday-check-full-forecast-2025-05-12-989880\u001b[0m\u001b[32;1m\u001b[1;3mThe weather in Delhi is partly cloudy.  There is a chance of light to moderate rainfall accompanied by thunderstorms and lightning, with gusty winds.\u001b[0m\n",
      "\n",
      "\u001b[1m> Finished chain.\u001b[0m\n"
     ]
    },
    {
     "data": {
      "text/plain": [
       "{'input': 'What is the weather in Delhi?',\n",
       " 'output': 'The weather in Delhi is partly cloudy.  There is a chance of light to moderate rainfall accompanied by thunderstorms and lightning, with gusty winds.'}"
      ]
     },
     "execution_count": 18,
     "metadata": {},
     "output_type": "execute_result"
    }
   ],
   "source": [
    "agent_executor.invoke({\"input\": \"What is the weather in Delhi?\"})"
   ]
  },
  {
   "cell_type": "code",
   "execution_count": null,
   "id": "5d407b15",
   "metadata": {},
   "outputs": [],
   "source": []
  }
 ],
 "metadata": {
  "kernelspec": {
   "display_name": "venv",
   "language": "python",
   "name": "python3"
  },
  "language_info": {
   "codemirror_mode": {
    "name": "ipython",
    "version": 3
   },
   "file_extension": ".py",
   "mimetype": "text/x-python",
   "name": "python",
   "nbconvert_exporter": "python",
   "pygments_lexer": "ipython3",
   "version": "3.13.1"
  }
 },
 "nbformat": 4,
 "nbformat_minor": 5
}
