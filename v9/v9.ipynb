{
 "cells": [
  {
   "cell_type": "code",
   "execution_count": 2,
   "id": "efc0d425",
   "metadata": {},
   "outputs": [
    {
     "data": {
      "text/plain": [
       "True"
      ]
     },
     "execution_count": 2,
     "metadata": {},
     "output_type": "execute_result"
    }
   ],
   "source": [
    "import os\n",
    "from dotenv import load_dotenv\n",
    "load_dotenv()"
   ]
  },
  {
   "cell_type": "code",
   "execution_count": 3,
   "id": "c591fd79",
   "metadata": {},
   "outputs": [],
   "source": [
    "GOOGLE_API_KEY = os.getenv(\"GOOGLE_API_KEY\")\n",
    "TAVILY_API_KEY = os.getenv(\"TAVILY_API_KEY\")\n",
    "GROQ_API_KEY = os.getenv(\"GROQ_API_KEY\")\n",
    "LANGCHAIN_API_KEY = os.getenv(\"LANGCHAIN_API_KEY\")\n",
    "LANGCHAIN_PROJECT = os.getenv(\"LANGCHAIN_PROJECT\")\n",
    "LANGSMITH_TRACING=\"true\"\n",
    "LANGSMITH_ENDPOINT=\"https://api.smith.langchain.com\"\n",
    "LANGSMITH_API_KEY= os.getenv(\"LANGSMITH_API_KEY\")"
   ]
  },
  {
   "cell_type": "code",
   "execution_count": 4,
   "id": "0a96aafd",
   "metadata": {},
   "outputs": [],
   "source": [
    "from langchain_groq import ChatGroq\n",
    "llm = ChatGroq(model_name=\"Llama3-8b-8192\")"
   ]
  },
  {
   "cell_type": "code",
   "execution_count": 5,
   "id": "620ce602",
   "metadata": {},
   "outputs": [],
   "source": [
    "from langgraph.graph import StateGraph, MessagesState, START, END\n",
    "from langgraph.graph.message import add_messages\n",
    "from typing import Annotated, Literal, TypedDict\n",
    "from langchain_core.tools import tool\n",
    "from langchain_core.messages import HumanMessage\n",
    "from langgraph.checkpoint.memory import MemorySaver\n",
    "from langgraph.prebuilt import ToolNode"
   ]
  },
  {
   "cell_type": "code",
   "execution_count": 6,
   "id": "0b3bb668",
   "metadata": {},
   "outputs": [],
   "source": [
    "def call_model(state: MessagesState):\n",
    "    messages = state['messages']\n",
    "    response = llm.invoke(messages)\n",
    "    return {\"messages\": [response]}"
   ]
  },
  {
   "cell_type": "code",
   "execution_count": 7,
   "id": "c4fe0903",
   "metadata": {},
   "outputs": [],
   "source": [
    "workflow = StateGraph(MessagesState)\n",
    "workflow.add_node(\"chatbot\",call_model)\n",
    "workflow.add_edge(START, \"chatbot\")\n",
    "workflow.add_edge(\"chatbot\", END)\n",
    "app = workflow.compile()"
   ]
  },
  {
   "cell_type": "code",
   "execution_count": 9,
   "id": "63c3ad28",
   "metadata": {},
   "outputs": [],
   "source": [
    "from IPython.display import Image, display"
   ]
  },
  {
   "cell_type": "code",
   "execution_count": null,
   "id": "5400f0ce",
   "metadata": {},
   "outputs": [
    {
     "data": {
      "image/png": "[encoded data removed]",
      "text/plain": [
       "<IPython.core.display.Image object>"
      ]
     },
     "metadata": {},
     "output_type": "display_data"
    }
   ],
   "source": [
    "try:\n",
    "    display(Image(app.get_graph().draw_mermaid_png()))\n",
    "except Exception as e:\n",
    "    print(e)"
   ]
  },
  {
   "cell_type": "code",
   "execution_count": 11,
   "id": "d0832e50",
   "metadata": {},
   "outputs": [
    {
     "data": {
      "text/plain": [
       "{'messages': [HumanMessage(content='Hi, my name is Vikas', additional_kwargs={}, response_metadata={}, id='4a0fd2b8-f8b6-48cf-8795-9f1c5695b090'),\n",
       "  AIMessage(content=\"Nice to meet you, Vikas! It's great to have you here. Is there something I can help you with or would you like to chat about something in particular?\", additional_kwargs={}, response_metadata={'token_usage': {'completion_tokens': 36, 'prompt_tokens': 17, 'total_tokens': 53, 'completion_time': 0.03, 'prompt_time': 0.003754976, 'queue_time': 0.37214777099999996, 'total_time': 0.033754976}, 'model_name': 'Llama3-8b-8192', 'system_fingerprint': 'fp_179b0f92c9', 'finish_reason': 'stop', 'logprobs': None}, id='run--17658572-07db-4543-85e7-6d51880e2ea1-0', usage_metadata={'input_tokens': 17, 'output_tokens': 36, 'total_tokens': 53})]}"
      ]
     },
     "execution_count": 11,
     "metadata": {},
     "output_type": "execute_result"
    }
   ],
   "source": [
    "app.invoke({\"messages\":[\"Hi, my name is Vikas\"]})"
   ]
  },
  {
   "cell_type": "code",
   "execution_count": 12,
   "id": "1513eb88",
   "metadata": {},
   "outputs": [
    {
     "name": "stdout",
     "output_type": "stream",
     "text": [
      "Output from chatbot Node\n",
      "-----------------\n",
      "{'messages': [AIMessage(content='Nice to meet you, Vikas! How are you doing today?', additional_kwargs={}, response_metadata={'token_usage': {'completion_tokens': 15, 'prompt_tokens': 17, 'total_tokens': 32, 'completion_time': 0.0125, 'prompt_time': 0.003705055, 'queue_time': 0.321368402, 'total_time': 0.016205055}, 'model_name': 'Llama3-8b-8192', 'system_fingerprint': 'fp_179b0f92c9', 'finish_reason': 'stop', 'logprobs': None}, id='run--c7291df4-2e99-4829-819b-d01e631126f5-0', usage_metadata={'input_tokens': 17, 'output_tokens': 15, 'total_tokens': 32})]}\n",
      "\n",
      "\n"
     ]
    }
   ],
   "source": [
    "input = {\"messages\":[\"Hi, my name is Vikas\"]}\n",
    "for output in app.stream(input):\n",
    "    for key, value in output.items():\n",
    "        print(f\"Output from {key} Node\")\n",
    "        print(\"-----------------\")\n",
    "        print(value)\n",
    "        print(\"\\n\")"
   ]
  },
  {
   "cell_type": "code",
   "execution_count": 13,
   "id": "027b8375",
   "metadata": {},
   "outputs": [],
   "source": [
    "@tool\n",
    "def search(query: str):\n",
    "    \"\"\"This is my custom tool.\"\"\"\n",
    "    if \"sf\" in query.lower() or \"san francisco\" in query.lower():\n",
    "        return \"It's 30 degrees and foggy.\"\n",
    "    return \"It's 40 degrees and sunny\""
   ]
  },
  {
   "cell_type": "code",
   "execution_count": 14,
   "id": "85fbba5a",
   "metadata": {},
   "outputs": [
    {
     "data": {
      "text/plain": [
       "\"It's 30 degrees and foggy.\""
      ]
     },
     "execution_count": 14,
     "metadata": {},
     "output_type": "execute_result"
    }
   ],
   "source": [
    "search.invoke(\"what is the temperatire in sf?\")"
   ]
  },
  {
   "cell_type": "code",
   "execution_count": 15,
   "id": "f56df1c3",
   "metadata": {},
   "outputs": [
    {
     "data": {
      "text/plain": [
       "\"It's 40 degrees and sunny\""
      ]
     },
     "execution_count": 15,
     "metadata": {},
     "output_type": "execute_result"
    }
   ],
   "source": [
    "search.invoke(\"what is the temperatire in India?\")"
   ]
  },
  {
   "cell_type": "code",
   "execution_count": 16,
   "id": "edb4f308",
   "metadata": {},
   "outputs": [],
   "source": [
    "tools = [search]"
   ]
  },
  {
   "cell_type": "code",
   "execution_count": 17,
   "id": "10f9ae41",
   "metadata": {},
   "outputs": [],
   "source": [
    "tool_node = ToolNode(tools)"
   ]
  },
  {
   "cell_type": "code",
   "execution_count": 18,
   "id": "1098ad09",
   "metadata": {},
   "outputs": [],
   "source": [
    "llm_with_tool = llm.bind_tools(tools)"
   ]
  },
  {
   "cell_type": "code",
   "execution_count": 19,
   "id": "0165e552",
   "metadata": {},
   "outputs": [],
   "source": [
    "def call_model(state: MessagesState):\n",
    "    messages = state['messages']\n",
    "    response = llm_with_tool.invoke(messages)\n",
    "    return {\"messages\": [response]}"
   ]
  },
  {
   "cell_type": "code",
   "execution_count": 26,
   "id": "71a23f8f",
   "metadata": {},
   "outputs": [],
   "source": [
    "response = call_model({\"messages\":[\"hi how are you?\"]})"
   ]
  },
  {
   "cell_type": "code",
   "execution_count": 27,
   "id": "6ce192e9",
   "metadata": {},
   "outputs": [
    {
     "data": {
      "text/plain": [
       "{'messages': [AIMessage(content=\"I'm doing well, thanks for asking!\", additional_kwargs={}, response_metadata={'token_usage': {'completion_tokens': 10, 'prompt_tokens': 1823, 'total_tokens': 1833, 'completion_time': 0.008333333, 'prompt_time': 0.228898853, 'queue_time': -0.283871833, 'total_time': 0.237232186}, 'model_name': 'Llama3-8b-8192', 'system_fingerprint': 'fp_dadc9d6142', 'finish_reason': 'stop', 'logprobs': None}, id='run--796dcd0c-5bc3-40e8-964b-de28b31ccc2c-0', usage_metadata={'input_tokens': 1823, 'output_tokens': 10, 'total_tokens': 1833})]}"
      ]
     },
     "execution_count": 27,
     "metadata": {},
     "output_type": "execute_result"
    }
   ],
   "source": [
    "response"
   ]
  },
  {
   "cell_type": "code",
   "execution_count": 28,
   "id": "4b37750a",
   "metadata": {},
   "outputs": [
    {
     "data": {
      "text/plain": [
       "[]"
      ]
     },
     "execution_count": 28,
     "metadata": {},
     "output_type": "execute_result"
    }
   ],
   "source": [
    "response['messages'][-1].tool_calls"
   ]
  },
  {
   "cell_type": "code",
   "execution_count": 53,
   "id": "ffdc858e",
   "metadata": {},
   "outputs": [],
   "source": [
    "response = call_model({\"messages\":[\"san francisco\"]})"
   ]
  },
  {
   "cell_type": "code",
   "execution_count": 54,
   "id": "4eb9dadc",
   "metadata": {},
   "outputs": [
    {
     "data": {
      "text/plain": [
       "{'messages': [AIMessage(content='', additional_kwargs={'tool_calls': [{'id': 'call_b196', 'function': {'arguments': '{\"query\":\"San Francisco\"}', 'name': 'search'}, 'type': 'function'}]}, response_metadata={'token_usage': {'completion_tokens': 66, 'prompt_tokens': 900, 'total_tokens': 966, 'completion_time': 0.055, 'prompt_time': 0.11330256, 'queue_time': 0.247466009, 'total_time': 0.16830256}, 'model_name': 'Llama3-8b-8192', 'system_fingerprint': 'fp_dadc9d6142', 'finish_reason': 'tool_calls', 'logprobs': None}, id='run--bd2c93dd-fe94-4174-843a-d2035f20e350-0', tool_calls=[{'name': 'search', 'args': {'query': 'San Francisco'}, 'id': 'call_b196', 'type': 'tool_call'}], usage_metadata={'input_tokens': 900, 'output_tokens': 66, 'total_tokens': 966})]}"
      ]
     },
     "execution_count": 54,
     "metadata": {},
     "output_type": "execute_result"
    }
   ],
   "source": [
    "response"
   ]
  },
  {
   "cell_type": "code",
   "execution_count": 55,
   "id": "ca556001",
   "metadata": {},
   "outputs": [
    {
     "data": {
      "text/plain": [
       "[{'name': 'search',\n",
       "  'args': {'query': 'San Francisco'},\n",
       "  'id': 'call_b196',\n",
       "  'type': 'tool_call'}]"
      ]
     },
     "execution_count": 55,
     "metadata": {},
     "output_type": "execute_result"
    }
   ],
   "source": [
    "response['messages'][-1].tool_calls"
   ]
  },
  {
   "cell_type": "code",
   "execution_count": 56,
   "id": "54d106d2",
   "metadata": {},
   "outputs": [
    {
     "data": {
      "text/plain": [
       "''"
      ]
     },
     "execution_count": 56,
     "metadata": {},
     "output_type": "execute_result"
    }
   ],
   "source": [
    "response['messages'][-1].content"
   ]
  },
  {
   "cell_type": "code",
   "execution_count": 59,
   "id": "41e1f0a2",
   "metadata": {},
   "outputs": [],
   "source": [
    "def router_function(state: MessagesState) -> Literal[\"tools\", END]:\n",
    "    messages = state[\"messages\"]\n",
    "    last_message = messages[-1]\n",
    "    if last_message.tool_calls:\n",
    "        return \"tools\"\n",
    "    return END"
   ]
  },
  {
   "cell_type": "code",
   "execution_count": 60,
   "id": "2d967c9e",
   "metadata": {},
   "outputs": [],
   "source": [
    "workflow = StateGraph(MessagesState)\n",
    "\n",
    "workflow.add_node(\"agent\", call_model)\n",
    "workflow.add_node(\"tools\", tool_node)\n",
    "workflow.add_edge(START, \"agent\")\n",
    "workflow.add_conditional_edges(\"agent\", router_function, {\"tools\": \"tools\", END: END})\n",
    "app = workflow.compile()"
   ]
  },
  {
   "cell_type": "code",
   "execution_count": 61,
   "id": "92b95e07",
   "metadata": {},
   "outputs": [
    {
     "data": {
      "image/png": "[encoded data removed]",
      "text/plain": [
       "<IPython.core.display.Image object>"
      ]
     },
     "metadata": {},
     "output_type": "display_data"
    }
   ],
   "source": [
    "try:\n",
    "    display(Image(app.get_graph().draw_mermaid_png()))\n",
    "except Exception as e:\n",
    "    print(e)"
   ]
  },
  {
   "cell_type": "code",
   "execution_count": 62,
   "id": "c0c37036",
   "metadata": {},
   "outputs": [],
   "source": [
    "workflow = StateGraph(MessagesState)\n",
    "\n",
    "workflow.add_node(\"agent\", call_model)\n",
    "workflow.add_node(\"tools\", tool_node)\n",
    "workflow.add_edge(START, \"agent\")\n",
    "workflow.add_conditional_edges(\"agent\", router_function, {\"tools\": \"tools\", END: END})\n",
    "workflow.add_edge(\"tools\",\"agent\")\n",
    "app = workflow.compile()"
   ]
  },
  {
   "cell_type": "code",
   "execution_count": 63,
   "id": "3c255b83",
   "metadata": {},
   "outputs": [
    {
     "data": {
      "image/png": "[encoded data removed]",
      "text/plain": [
       "<IPython.core.display.Image object>"
      ]
     },
     "metadata": {},
     "output_type": "display_data"
    }
   ],
   "source": [
    "try:\n",
    "    display(Image(app.get_graph().draw_mermaid_png()))\n",
    "except Exception as e:\n",
    "    print(e)"
   ]
  },
  {
   "cell_type": "code",
   "execution_count": 64,
   "id": "6f7dec38",
   "metadata": {},
   "outputs": [
    {
     "name": "stdout",
     "output_type": "stream",
     "text": [
      "Output from agent Node\n",
      "-----------------\n",
      "{'messages': [AIMessage(content='Nice to meet you, Vikas!', additional_kwargs={}, response_metadata={'token_usage': {'completion_tokens': 9, 'prompt_tokens': 1827, 'total_tokens': 1836, 'completion_time': 0.0075, 'prompt_time': 0.321145274, 'queue_time': -0.383316334, 'total_time': 0.328645274}, 'model_name': 'Llama3-8b-8192', 'system_fingerprint': 'fp_179b0f92c9', 'finish_reason': 'stop', 'logprobs': None}, id='run--f43e5fe8-f45f-4c68-8830-adffe3c3093a-0', usage_metadata={'input_tokens': 1827, 'output_tokens': 9, 'total_tokens': 1836})]}\n",
      "\n",
      "\n"
     ]
    }
   ],
   "source": [
    "input = {\"messages\":[\"Hi, my name is Vikas\"]}\n",
    "for output in app.stream(input):\n",
    "    for key, value in output.items():\n",
    "        print(f\"Output from {key} Node\")\n",
    "        print(\"-----------------\")\n",
    "        print(value)\n",
    "        print(\"\\n\")"
   ]
  },
  {
   "cell_type": "code",
   "execution_count": 67,
   "id": "f637d57c",
   "metadata": {},
   "outputs": [],
   "source": [
    "from langgraph.checkpoint.memory import MemorySaver\n",
    "\n",
    "memory = MemorySaver()"
   ]
  },
  {
   "cell_type": "code",
   "execution_count": 68,
   "id": "13d5d119",
   "metadata": {},
   "outputs": [],
   "source": [
    "workflow2 = StateGraph(MessagesState)\n",
    "\n",
    "workflow2.add_node(\"agent\", call_model)\n",
    "workflow2.add_node(\"tools\", tool_node)\n",
    "workflow2.add_edge(START, \"agent\")\n",
    "workflow2.add_conditional_edges(\"agent\", router_function, {\"tools\":\"tools\", END:END})\n",
    "workflow2.add_edge(\"tools\", \"agent\")\n",
    "\n",
    "app2 = workflow2.compile(checkpointer = memory)"
   ]
  },
  {
   "cell_type": "code",
   "execution_count": 69,
   "id": "1ae32ba5",
   "metadata": {},
   "outputs": [
    {
     "data": {
      "image/png": "[encoded data removed]",
      "text/plain": [
       "<IPython.core.display.Image object>"
      ]
     },
     "metadata": {},
     "output_type": "display_data"
    }
   ],
   "source": [
    "try:\n",
    "    display(Image(app.get_graph().draw_mermaid_png()))\n",
    "except Exception as e:\n",
    "    print(e)"
   ]
  },
  {
   "cell_type": "code",
   "execution_count": 70,
   "id": "831d74a2",
   "metadata": {},
   "outputs": [],
   "source": [
    "config = {\"configurable\": {\"thread_id\": \"1\"}}"
   ]
  },
  {
   "cell_type": "code",
   "execution_count": 71,
   "id": "05fe3f66",
   "metadata": {},
   "outputs": [],
   "source": [
    "events = app2.stream({\"messages\": [\"Hi there! My name is Vikas.\"]}, config, stream_mode=\"values\")"
   ]
  },
  {
   "cell_type": "code",
   "execution_count": 72,
   "id": "a8b8219f",
   "metadata": {},
   "outputs": [
    {
     "name": "stdout",
     "output_type": "stream",
     "text": [
      "================================\u001b[1m Human Message \u001b[0m=================================\n",
      "\n",
      "Hi there! My name is Vikas.\n",
      "==================================\u001b[1m Ai Message \u001b[0m==================================\n",
      "\n",
      "Nice to meet you, Vikas!\n"
     ]
    }
   ],
   "source": [
    "for event in events:\n",
    "    event['messages'][-1].pretty_print()"
   ]
  },
  {
   "cell_type": "code",
   "execution_count": 73,
   "id": "3a2693e2",
   "metadata": {},
   "outputs": [],
   "source": [
    "events = app2.stream({\"messages\": [\"Can you tell me what was my name?\"]}, config, stream_mode=\"values\")"
   ]
  },
  {
   "cell_type": "code",
   "execution_count": 74,
   "id": "890fff9b",
   "metadata": {},
   "outputs": [
    {
     "name": "stdout",
     "output_type": "stream",
     "text": [
      "================================\u001b[1m Human Message \u001b[0m=================================\n",
      "\n",
      "Can you tell me what was my name?\n",
      "==================================\u001b[1m Ai Message \u001b[0m==================================\n",
      "\n",
      "Your name is Vikas.\n"
     ]
    }
   ],
   "source": [
    "for event in events:\n",
    "    event['messages'][-1].pretty_print()"
   ]
  },
  {
   "cell_type": "code",
   "execution_count": null,
   "id": "c8e1b278",
   "metadata": {},
   "outputs": [
    {
     "data": {
      "text/plain": [
       "{'v': 3,\n",
       " 'ts': '2025-05-21T07:30:24.501043+00:00',\n",
       " 'id': '1f036157-5ad9-6d27-8004-f77f884f7985',\n",
       " 'channel_versions': {'__start__': '00000000000000000000000000000005.0.7251354992701999',\n",
       "  'messages': '00000000000000000000000000000006.0.18575160816483793',\n",
       "  'branch:to:agent': '00000000000000000000000000000006.0.6258011566396261'},\n",
       " 'versions_seen': {'__input__': {},\n",
       "  '__start__': {'__start__': '00000000000000000000000000000004.0.6501332159353587'},\n",
       "  'agent': {'branch:to:agent': '00000000000000000000000000000005.0.4215322184219624'}},\n",
       " 'channel_values': {'messages': [HumanMessage(content='Hi there! My name is Vikas.', additional_kwargs={}, response_metadata={}, id='8b74a237-45cb-46bc-98c8-befa7b379e01'),\n",
       "   AIMessage(content='Nice to meet you, Vikas!', additional_kwargs={}, response_metadata={'token_usage': {'completion_tokens': 9, 'prompt_tokens': 906, 'total_tokens': 915, 'completion_time': 0.0075, 'prompt_time': 0.129683957, 'queue_time': 0.41066221299999994, 'total_time': 0.137183957}, 'model_name': 'Llama3-8b-8192', 'system_fingerprint': 'fp_dadc9d6142', 'finish_reason': 'stop', 'logprobs': None}, id='run--385eb9b2-b193-4692-8088-6e1be7ee48ee-0', usage_metadata={'input_tokens': 906, 'output_tokens': 9, 'total_tokens': 915}),\n",
       "   HumanMessage(content='Can you tell me what was my name?', additional_kwargs={}, response_metadata={}, id='561181ba-0a75-4cd0-bb23-d07e25e97f8d'),\n",
       "   AIMessage(content='Your name is Vikas.', additional_kwargs={}, response_metadata={'token_usage': {'completion_tokens': 7, 'prompt_tokens': 933, 'total_tokens': 940, 'completion_time': 0.005833333, 'prompt_time': 0.141664082, 'queue_time': 0.286669386, 'total_time': 0.147497415}, 'model_name': 'Llama3-8b-8192', 'system_fingerprint': 'fp_179b0f92c9', 'finish_reason': 'stop', 'logprobs': None}, id='run--bdfb624d-d1bb-4dde-9c36-568f16c49bf8-0', usage_metadata={'input_tokens': 933, 'output_tokens': 7, 'total_tokens': 940})]},\n",
       " 'pending_sends': []}"
      ]
     },
     "execution_count": 75,
     "metadata": {},
     "output_type": "execute_result"
    }
   ],
   "source": [
    "memory.get(config)"
   ]
  },
  {
   "cell_type": "code",
   "execution_count": 81,
   "id": "ff459ff9",
   "metadata": {},
   "outputs": [
    {
     "data": {
      "text/plain": [
       "[HumanMessage(content='Hi there! My name is Vikas.', additional_kwargs={}, response_metadata={}, id='8b74a237-45cb-46bc-98c8-befa7b379e01'),\n",
       " AIMessage(content='Nice to meet you, Vikas!', additional_kwargs={}, response_metadata={'token_usage': {'completion_tokens': 9, 'prompt_tokens': 906, 'total_tokens': 915, 'completion_time': 0.0075, 'prompt_time': 0.129683957, 'queue_time': 0.41066221299999994, 'total_time': 0.137183957}, 'model_name': 'Llama3-8b-8192', 'system_fingerprint': 'fp_dadc9d6142', 'finish_reason': 'stop', 'logprobs': None}, id='run--385eb9b2-b193-4692-8088-6e1be7ee48ee-0', usage_metadata={'input_tokens': 906, 'output_tokens': 9, 'total_tokens': 915}),\n",
       " HumanMessage(content='Can you tell me what was my name?', additional_kwargs={}, response_metadata={}, id='561181ba-0a75-4cd0-bb23-d07e25e97f8d'),\n",
       " AIMessage(content='Your name is Vikas.', additional_kwargs={}, response_metadata={'token_usage': {'completion_tokens': 7, 'prompt_tokens': 933, 'total_tokens': 940, 'completion_time': 0.005833333, 'prompt_time': 0.141664082, 'queue_time': 0.286669386, 'total_time': 0.147497415}, 'model_name': 'Llama3-8b-8192', 'system_fingerprint': 'fp_179b0f92c9', 'finish_reason': 'stop', 'logprobs': None}, id='run--bdfb624d-d1bb-4dde-9c36-568f16c49bf8-0', usage_metadata={'input_tokens': 933, 'output_tokens': 7, 'total_tokens': 940})]"
      ]
     },
     "execution_count": 81,
     "metadata": {},
     "output_type": "execute_result"
    }
   ],
   "source": [
    "memory.get(config)['channel_values']['messages']"
   ]
  },
  {
   "cell_type": "code",
   "execution_count": null,
   "id": "c6cf1d44",
   "metadata": {},
   "outputs": [],
   "source": []
  }
 ],
 "metadata": {
  "kernelspec": {
   "display_name": "venv",
   "language": "python",
   "name": "python3"
  },
  "language_info": {
   "codemirror_mode": {
    "name": "ipython",
    "version": 3
   },
   "file_extension": ".py",
   "mimetype": "text/x-python",
   "name": "python",
   "nbconvert_exporter": "python",
   "pygments_lexer": "ipython3",
   "version": "3.13.1"
  }
 },
 "nbformat": 4,
 "nbformat_minor": 5
}
